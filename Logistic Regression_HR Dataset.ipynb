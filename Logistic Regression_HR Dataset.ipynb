{
 "cells": [
  {
   "cell_type": "code",
   "execution_count": 1,
   "id": "ef558b63",
   "metadata": {},
   "outputs": [
    {
     "name": "stderr",
     "output_type": "stream",
     "text": [
      "c:\\users\\aiforesee\\appdata\\local\\programs\\python\\python38\\lib\\site-packages\\numpy\\_distributor_init.py:30: UserWarning: loaded more than 1 DLL from .libs:\n",
      "c:\\users\\aiforesee\\appdata\\local\\programs\\python\\python38\\lib\\site-packages\\numpy\\.libs\\libopenblas.FB5AE2TYXYH2IJRDKGDGQ3XBKLKTF43H.gfortran-win_amd64.dll\n",
      "c:\\users\\aiforesee\\appdata\\local\\programs\\python\\python38\\lib\\site-packages\\numpy\\.libs\\libopenblas.PYQHXLVVQ7VESDPUVUADXEVJOBGHJPAY.gfortran-win_amd64.dll\n",
      "  warnings.warn(\"loaded more than 1 DLL from .libs:\"\n"
     ]
    }
   ],
   "source": [
    "import matplotlib.pyplot as plt\n",
    "import numpy as np\n",
    "import pandas as pd\n",
    "import seaborn as sns\n",
    "\n",
    "from imblearn.over_sampling import RandomOverSampler\n",
    "from datetime import datetime\n",
    "from dateutil.relativedelta import relativedelta\n",
    "from sklearn.linear_model import LogisticRegression\n",
    "from sklearn.metrics import f1_score, classification_report, confusion_matrix, roc_auc_score, average_precision_score, log_loss, recall_score, precision_score, accuracy_score\n",
    "from sklearn.model_selection import GridSearchCV\n",
    "from sklearn.model_selection import train_test_split\n",
    "from sklearn.preprocessing import StandardScaler"
   ]
  },
  {
   "cell_type": "code",
   "execution_count": 2,
   "id": "e1ce494a",
   "metadata": {},
   "outputs": [
    {
     "data": {
      "text/html": [
       "<div>\n",
       "<style scoped>\n",
       "    .dataframe tbody tr th:only-of-type {\n",
       "        vertical-align: middle;\n",
       "    }\n",
       "\n",
       "    .dataframe tbody tr th {\n",
       "        vertical-align: top;\n",
       "    }\n",
       "\n",
       "    .dataframe thead th {\n",
       "        text-align: right;\n",
       "    }\n",
       "</style>\n",
       "<table border=\"1\" class=\"dataframe\">\n",
       "  <thead>\n",
       "    <tr style=\"text-align: right;\">\n",
       "      <th></th>\n",
       "      <th>282</th>\n",
       "      <th>283</th>\n",
       "      <th>284</th>\n",
       "      <th>285</th>\n",
       "      <th>286</th>\n",
       "    </tr>\n",
       "  </thead>\n",
       "  <tbody>\n",
       "    <tr>\n",
       "      <th>Employee_Name</th>\n",
       "      <td>Yusril Firza</td>\n",
       "      <td>Yusril Iqbal</td>\n",
       "      <td>Zahrah</td>\n",
       "      <td>Zharfan Nugraha Permadi</td>\n",
       "      <td>Zia Ulhafidz Aldiansyah</td>\n",
       "    </tr>\n",
       "    <tr>\n",
       "      <th>EmpID</th>\n",
       "      <td>10283</td>\n",
       "      <td>10284</td>\n",
       "      <td>10285</td>\n",
       "      <td>10286</td>\n",
       "      <td>10287</td>\n",
       "    </tr>\n",
       "    <tr>\n",
       "      <th>MarriedID</th>\n",
       "      <td>Not married</td>\n",
       "      <td>Married</td>\n",
       "      <td>Not married</td>\n",
       "      <td>Married</td>\n",
       "      <td>Not married</td>\n",
       "    </tr>\n",
       "    <tr>\n",
       "      <th>MaritalStatusID</th>\n",
       "      <td>Single</td>\n",
       "      <td>Widowed</td>\n",
       "      <td>Single</td>\n",
       "      <td>Married</td>\n",
       "      <td>Single</td>\n",
       "    </tr>\n",
       "    <tr>\n",
       "      <th>GenderID</th>\n",
       "      <td>M</td>\n",
       "      <td>F</td>\n",
       "      <td>M</td>\n",
       "      <td>M</td>\n",
       "      <td>F</td>\n",
       "    </tr>\n",
       "    <tr>\n",
       "      <th>EmpStatusID</th>\n",
       "      <td>TKP/ Outsource</td>\n",
       "      <td>TKP/ Outsource</td>\n",
       "      <td>TKP/ Outsource</td>\n",
       "      <td>TKP/ Outsource</td>\n",
       "      <td>TKP/ Outsource</td>\n",
       "    </tr>\n",
       "    <tr>\n",
       "      <th>RoleID</th>\n",
       "      <td>Back End Developer</td>\n",
       "      <td>Back End Developer</td>\n",
       "      <td>Front End Developer</td>\n",
       "      <td>Back End Developer</td>\n",
       "      <td>Front End Developer</td>\n",
       "    </tr>\n",
       "    <tr>\n",
       "      <th>LevelID</th>\n",
       "      <td>Middle</td>\n",
       "      <td>Junior</td>\n",
       "      <td>Junior</td>\n",
       "      <td>Junior</td>\n",
       "      <td>Senior</td>\n",
       "    </tr>\n",
       "    <tr>\n",
       "      <th>PerfScoreID</th>\n",
       "      <td>Fully meets</td>\n",
       "      <td>Average</td>\n",
       "      <td>Exceed</td>\n",
       "      <td>Exceed</td>\n",
       "      <td>Special treatment</td>\n",
       "    </tr>\n",
       "    <tr>\n",
       "      <th>Tribe</th>\n",
       "      <td>EDU</td>\n",
       "      <td>LGT</td>\n",
       "      <td>EDU</td>\n",
       "      <td>EDU</td>\n",
       "      <td>FIN</td>\n",
       "    </tr>\n",
       "    <tr>\n",
       "      <th>Squad</th>\n",
       "      <td>Squad Pijar Corpu</td>\n",
       "      <td>Logee Port</td>\n",
       "      <td>Squad Pijar Mahir</td>\n",
       "      <td>Squad Pijar Mahir</td>\n",
       "      <td>Platform</td>\n",
       "    </tr>\n",
       "    <tr>\n",
       "      <th>DOB</th>\n",
       "      <td>1/15/1968</td>\n",
       "      <td>5/16/1983</td>\n",
       "      <td>5/5/1988</td>\n",
       "      <td>6/14/1983</td>\n",
       "      <td>3/15/1985</td>\n",
       "    </tr>\n",
       "    <tr>\n",
       "      <th>RaceDesc</th>\n",
       "      <td>Padang</td>\n",
       "      <td>Bali</td>\n",
       "      <td>Cina</td>\n",
       "      <td>Bali</td>\n",
       "      <td>Sunda</td>\n",
       "    </tr>\n",
       "    <tr>\n",
       "      <th>DateofHire</th>\n",
       "      <td>1/9/2006</td>\n",
       "      <td>2/17/2014</td>\n",
       "      <td>1/5/2015</td>\n",
       "      <td>2/18/2013</td>\n",
       "      <td>1/10/2011</td>\n",
       "    </tr>\n",
       "    <tr>\n",
       "      <th>DateofTermination</th>\n",
       "      <td>NaN</td>\n",
       "      <td>NaN</td>\n",
       "      <td>2/12/2018</td>\n",
       "      <td>4/15/2020</td>\n",
       "      <td>7/2/2016</td>\n",
       "    </tr>\n",
       "    <tr>\n",
       "      <th>TermReason</th>\n",
       "      <td>N/A-StillEmployed</td>\n",
       "      <td>N/A-StillEmployed</td>\n",
       "      <td>medical issues</td>\n",
       "      <td>medical issues</td>\n",
       "      <td>unhappy</td>\n",
       "    </tr>\n",
       "    <tr>\n",
       "      <th>EmploymentStatus</th>\n",
       "      <td>Active</td>\n",
       "      <td>Active</td>\n",
       "      <td>Voluntarily Terminated</td>\n",
       "      <td>Voluntarily Terminated</td>\n",
       "      <td>Voluntarily Terminated</td>\n",
       "    </tr>\n",
       "    <tr>\n",
       "      <th>RecruitmentSource</th>\n",
       "      <td>Indeed</td>\n",
       "      <td>LinkedIn</td>\n",
       "      <td>CareerBuilder</td>\n",
       "      <td>Diversity Job Fair</td>\n",
       "      <td>LinkedIn</td>\n",
       "    </tr>\n",
       "    <tr>\n",
       "      <th>EngagementSurvey</th>\n",
       "      <td>4.1</td>\n",
       "      <td>2.44</td>\n",
       "      <td>5.0</td>\n",
       "      <td>4.6</td>\n",
       "      <td>4.4</td>\n",
       "    </tr>\n",
       "    <tr>\n",
       "      <th>EmpSatisfaction</th>\n",
       "      <td>3</td>\n",
       "      <td>5</td>\n",
       "      <td>3</td>\n",
       "      <td>3</td>\n",
       "      <td>3</td>\n",
       "    </tr>\n",
       "    <tr>\n",
       "      <th>SpecialProjectsCount</th>\n",
       "      <td>0</td>\n",
       "      <td>0</td>\n",
       "      <td>5</td>\n",
       "      <td>4</td>\n",
       "      <td>0</td>\n",
       "    </tr>\n",
       "    <tr>\n",
       "      <th>LastPerformanceReview_Date</th>\n",
       "      <td>1/4/2020</td>\n",
       "      <td>2/11/2020</td>\n",
       "      <td>4/15/2016</td>\n",
       "      <td>2/12/2018</td>\n",
       "      <td>1/5/2015</td>\n",
       "    </tr>\n",
       "    <tr>\n",
       "      <th>DaysLateLast30</th>\n",
       "      <td>0</td>\n",
       "      <td>4</td>\n",
       "      <td>0</td>\n",
       "      <td>0</td>\n",
       "      <td>0</td>\n",
       "    </tr>\n",
       "    <tr>\n",
       "      <th>Absences</th>\n",
       "      <td>6</td>\n",
       "      <td>18</td>\n",
       "      <td>11</td>\n",
       "      <td>9</td>\n",
       "      <td>5</td>\n",
       "    </tr>\n",
       "    <tr>\n",
       "      <th>DateofTermination_v1</th>\n",
       "      <td>7/24/2021</td>\n",
       "      <td>7/24/2021</td>\n",
       "      <td>2/12/2018</td>\n",
       "      <td>4/15/2020</td>\n",
       "      <td>7/2/2016</td>\n",
       "    </tr>\n",
       "  </tbody>\n",
       "</table>\n",
       "</div>"
      ],
      "text/plain": [
       "                                           282                 283  \\\n",
       "Employee_Name                     Yusril Firza        Yusril Iqbal   \n",
       "EmpID                                    10283               10284   \n",
       "MarriedID                          Not married             Married   \n",
       "MaritalStatusID                         Single             Widowed   \n",
       "GenderID                                     M                   F   \n",
       "EmpStatusID                     TKP/ Outsource      TKP/ Outsource   \n",
       "RoleID                      Back End Developer  Back End Developer   \n",
       "LevelID                                 Middle              Junior   \n",
       "PerfScoreID                        Fully meets             Average   \n",
       "Tribe                                      EDU                 LGT   \n",
       "Squad                        Squad Pijar Corpu          Logee Port   \n",
       "DOB                                  1/15/1968           5/16/1983   \n",
       "RaceDesc                                Padang                Bali   \n",
       "DateofHire                            1/9/2006           2/17/2014   \n",
       "DateofTermination                          NaN                 NaN   \n",
       "TermReason                   N/A-StillEmployed   N/A-StillEmployed   \n",
       "EmploymentStatus                        Active              Active   \n",
       "RecruitmentSource                       Indeed            LinkedIn   \n",
       "EngagementSurvey                           4.1                2.44   \n",
       "EmpSatisfaction                              3                   5   \n",
       "SpecialProjectsCount                         0                   0   \n",
       "LastPerformanceReview_Date            1/4/2020           2/11/2020   \n",
       "DaysLateLast30                               0                   4   \n",
       "Absences                                     6                  18   \n",
       "DateofTermination_v1                 7/24/2021           7/24/2021   \n",
       "\n",
       "                                               284                      285  \\\n",
       "Employee_Name                               Zahrah  Zharfan Nugraha Permadi   \n",
       "EmpID                                        10285                    10286   \n",
       "MarriedID                              Not married                  Married   \n",
       "MaritalStatusID                             Single                  Married   \n",
       "GenderID                                         M                        M   \n",
       "EmpStatusID                         TKP/ Outsource           TKP/ Outsource   \n",
       "RoleID                         Front End Developer       Back End Developer   \n",
       "LevelID                                     Junior                   Junior   \n",
       "PerfScoreID                                 Exceed                   Exceed   \n",
       "Tribe                                          EDU                      EDU   \n",
       "Squad                            Squad Pijar Mahir        Squad Pijar Mahir   \n",
       "DOB                                       5/5/1988                6/14/1983   \n",
       "RaceDesc                                      Cina                     Bali   \n",
       "DateofHire                                1/5/2015                2/18/2013   \n",
       "DateofTermination                        2/12/2018                4/15/2020   \n",
       "TermReason                          medical issues           medical issues   \n",
       "EmploymentStatus            Voluntarily Terminated   Voluntarily Terminated   \n",
       "RecruitmentSource                    CareerBuilder       Diversity Job Fair   \n",
       "EngagementSurvey                               5.0                      4.6   \n",
       "EmpSatisfaction                                  3                        3   \n",
       "SpecialProjectsCount                             5                        4   \n",
       "LastPerformanceReview_Date               4/15/2016                2/12/2018   \n",
       "DaysLateLast30                                   0                        0   \n",
       "Absences                                        11                        9   \n",
       "DateofTermination_v1                     2/12/2018                4/15/2020   \n",
       "\n",
       "                                                286  \n",
       "Employee_Name               Zia Ulhafidz Aldiansyah  \n",
       "EmpID                                         10287  \n",
       "MarriedID                               Not married  \n",
       "MaritalStatusID                              Single  \n",
       "GenderID                                          F  \n",
       "EmpStatusID                          TKP/ Outsource  \n",
       "RoleID                          Front End Developer  \n",
       "LevelID                                      Senior  \n",
       "PerfScoreID                       Special treatment  \n",
       "Tribe                                           FIN  \n",
       "Squad                                      Platform  \n",
       "DOB                                       3/15/1985  \n",
       "RaceDesc                                      Sunda  \n",
       "DateofHire                                1/10/2011  \n",
       "DateofTermination                          7/2/2016  \n",
       "TermReason                                  unhappy  \n",
       "EmploymentStatus             Voluntarily Terminated  \n",
       "RecruitmentSource                          LinkedIn  \n",
       "EngagementSurvey                                4.4  \n",
       "EmpSatisfaction                                   3  \n",
       "SpecialProjectsCount                              0  \n",
       "LastPerformanceReview_Date                 1/5/2015  \n",
       "DaysLateLast30                                    0  \n",
       "Absences                                          5  \n",
       "DateofTermination_v1                       7/2/2016  "
      ]
     },
     "execution_count": 2,
     "metadata": {},
     "output_type": "execute_result"
    }
   ],
   "source": [
    "# Load data csv\n",
    "data = pd.read_csv(\"dataset HR analytics.csv\")\n",
    "\n",
    "data.tail().T"
   ]
  },
  {
   "cell_type": "markdown",
   "id": "5508f714",
   "metadata": {},
   "source": [
    "# Data Preparation\n",
    "---"
   ]
  },
  {
   "cell_type": "code",
   "execution_count": 3,
   "id": "710425b2",
   "metadata": {},
   "outputs": [
    {
     "data": {
      "text/plain": [
       "Active                    194\n",
       "Voluntarily Terminated     79\n",
       "Terminated for Cause       14\n",
       "Name: EmploymentStatus, dtype: int64"
      ]
     },
     "execution_count": 3,
     "metadata": {},
     "output_type": "execute_result"
    }
   ],
   "source": [
    "data['EmploymentStatus'].value_counts()"
   ]
  },
  {
   "cell_type": "code",
   "execution_count": 4,
   "id": "6b16cd8c",
   "metadata": {},
   "outputs": [],
   "source": [
    "# Membuat data Duration dan Age\n",
    "\n",
    "data['DateofTermination_v1'] = pd.to_datetime(data['DateofTermination_v1'], format='%m/%d/%Y')\n",
    "data['DOB'] = pd.to_datetime(data['DOB'], format='%m/%d/%Y')\n",
    "data['DateofHire'] = pd.to_datetime(data['DateofHire'], format='%m/%d/%Y')\n",
    "\n",
    "data['Duration'] = data.apply(lambda x: relativedelta(x['DateofTermination_v1'], x['DateofHire']).years, axis = 1)\n",
    "data['Age'] = data.apply(lambda x: relativedelta(x['DateofTermination_v1'], x['DOB']).years, axis = 1)"
   ]
  },
  {
   "cell_type": "code",
   "execution_count": 5,
   "id": "2d26fb24",
   "metadata": {},
   "outputs": [
    {
     "data": {
      "text/plain": [
       "0    194\n",
       "1     93\n",
       "Name: Churn, dtype: int64"
      ]
     },
     "execution_count": 5,
     "metadata": {},
     "output_type": "execute_result"
    }
   ],
   "source": [
    "# Memilih variables yang akan dijadikan feature\n",
    "variables = ['LevelID', 'PerfScoreID', \n",
    "             'EngagementSurvey', \n",
    "             'EmpSatisfaction', \n",
    "             'SpecialProjectsCount',\n",
    "             'DaysLateLast30', \n",
    "             'Absences', \n",
    "             'Age', \n",
    "             'Duration', \n",
    "             'EmploymentStatus']\n",
    "df = data[variables].copy()\n",
    "df.columns = ['Churn' if i == 'EmploymentStatus' else i for i in variables]\n",
    "\n",
    "# Mendefinisikan churn\n",
    "df['Churn'] = df['Churn'].apply(lambda x : 0 if x == 'Active' else 1)\n",
    "df['Churn'].value_counts()"
   ]
  },
  {
   "cell_type": "code",
   "execution_count": 6,
   "id": "af29c450",
   "metadata": {},
   "outputs": [
    {
     "data": {
      "text/plain": [
       "0    0.675958\n",
       "1    0.324042\n",
       "Name: Churn, dtype: float64"
      ]
     },
     "execution_count": 6,
     "metadata": {},
     "output_type": "execute_result"
    }
   ],
   "source": [
    "# Cek proporsi variabel respon\n",
    "df['Churn'].value_counts(normalize=True)"
   ]
  },
  {
   "cell_type": "code",
   "execution_count": 7,
   "id": "92e46deb",
   "metadata": {
    "scrolled": true
   },
   "outputs": [
    {
     "name": "stdout",
     "output_type": "stream",
     "text": [
      "<class 'pandas.core.frame.DataFrame'>\n",
      "RangeIndex: 287 entries, 0 to 286\n",
      "Data columns (total 10 columns):\n",
      " #   Column                Non-Null Count  Dtype  \n",
      "---  ------                --------------  -----  \n",
      " 0   LevelID               287 non-null    object \n",
      " 1   PerfScoreID           287 non-null    object \n",
      " 2   EngagementSurvey      287 non-null    float64\n",
      " 3   EmpSatisfaction       287 non-null    int64  \n",
      " 4   SpecialProjectsCount  287 non-null    int64  \n",
      " 5   DaysLateLast30        287 non-null    int64  \n",
      " 6   Absences              287 non-null    int64  \n",
      " 7   Age                   287 non-null    int64  \n",
      " 8   Duration              287 non-null    int64  \n",
      " 9   Churn                 287 non-null    int64  \n",
      "dtypes: float64(1), int64(7), object(2)\n",
      "memory usage: 22.5+ KB\n"
     ]
    }
   ],
   "source": [
    "df.info()"
   ]
  },
  {
   "cell_type": "markdown",
   "id": "90e43bd7",
   "metadata": {},
   "source": [
    "# Sample Splitting\n",
    "---"
   ]
  },
  {
   "cell_type": "code",
   "execution_count": 8,
   "id": "94631a15",
   "metadata": {},
   "outputs": [
    {
     "name": "stdout",
     "output_type": "stream",
     "text": [
      "y shape : (287,)\n",
      "X shape : (287, 9)\n"
     ]
    }
   ],
   "source": [
    "response_variable = 'Churn'\n",
    "\n",
    "# Split respon dan prediktor\n",
    "y = df[response_variable]\n",
    "X = df.drop(columns=[response_variable], axis=1)\n",
    "\n",
    "print('y shape :', y.shape)\n",
    "print('X shape :', X.shape)"
   ]
  },
  {
   "cell_type": "code",
   "execution_count": 9,
   "id": "b070fc06",
   "metadata": {},
   "outputs": [
    {
     "name": "stdout",
     "output_type": "stream",
     "text": [
      "X train shape : (200, 9)\n",
      "y train shape : (200,)\n",
      "X test shape  : (87, 9)\n",
      "y test shape  : (87,)\n"
     ]
    }
   ],
   "source": [
    "# Split data train dan test\n",
    "X_train, X_test, y_train, y_test = train_test_split(X,\n",
    "                                                    y,\n",
    "                                                    stratify = y,\n",
    "                                                    test_size = 0.3,\n",
    "                                                    random_state = 42)\n",
    "\n",
    "print('X train shape :', X_train.shape)\n",
    "print('y train shape :', y_train.shape)\n",
    "print('X test shape  :', X_test.shape)\n",
    "print('y test shape  :', y_test.shape)"
   ]
  },
  {
   "cell_type": "code",
   "execution_count": 10,
   "id": "d26331f8",
   "metadata": {},
   "outputs": [
    {
     "data": {
      "text/plain": [
       "0    0.675\n",
       "1    0.325\n",
       "Name: Churn, dtype: float64"
      ]
     },
     "execution_count": 10,
     "metadata": {},
     "output_type": "execute_result"
    }
   ],
   "source": [
    "y_train.value_counts(normalize=True)"
   ]
  },
  {
   "cell_type": "code",
   "execution_count": 11,
   "id": "f4d0a3e0",
   "metadata": {},
   "outputs": [
    {
     "data": {
      "text/plain": [
       "0    0.678161\n",
       "1    0.321839\n",
       "Name: Churn, dtype: float64"
      ]
     },
     "execution_count": 11,
     "metadata": {},
     "output_type": "execute_result"
    }
   ],
   "source": [
    "y_test.value_counts(normalize=True)"
   ]
  },
  {
   "cell_type": "code",
   "execution_count": 12,
   "id": "a1e9f696",
   "metadata": {},
   "outputs": [
    {
     "data": {
      "text/plain": [
       "0       57\n",
       "1       45\n",
       "2      270\n",
       "3      265\n",
       "4       47\n",
       "      ... \n",
       "195     37\n",
       "196     39\n",
       "197    199\n",
       "198     28\n",
       "199    174\n",
       "Name: index, Length: 200, dtype: int64"
      ]
     },
     "execution_count": 12,
     "metadata": {},
     "output_type": "execute_result"
    }
   ],
   "source": [
    "X_train.reset_index()['index']"
   ]
  },
  {
   "cell_type": "code",
   "execution_count": 13,
   "id": "3ae7b316",
   "metadata": {
    "scrolled": true
   },
   "outputs": [
    {
     "data": {
      "image/png": "[encoded data removed]",
      "text/plain": [
       "<Figure size 432x288 with 1 Axes>"
      ]
     },
     "metadata": {
      "needs_background": "light"
     },
     "output_type": "display_data"
    }
   ],
   "source": [
    "# proporsi data type\n",
    "\n",
    "df.loc[df.reset_index()['index'].isin(X_train.reset_index()['index']), 'DataType'] = 'train'\n",
    "df.loc[df.reset_index()['index'].isin(X_test.reset_index()['index']), 'DataType'] = 'test'\n",
    "\n",
    "# Proporsi churn berdasarkan 'LevelID'\n",
    "ax = sns.countplot(data = df, x = 'DataType', hue = 'Churn')\n",
    "for p in ax.patches:\n",
    "    ax.annotate(f'\\n{p.get_height()}', (p.get_x()+0.2, p.get_height()), ha='center', va='top', color='white', \n",
    "                size=12)"
   ]
  },
  {
   "cell_type": "code",
   "execution_count": 14,
   "id": "b7b60b4f",
   "metadata": {},
   "outputs": [
    {
     "data": {
      "text/plain": [
       "<AxesSubplot:ylabel='Churn'>"
      ]
     },
     "execution_count": 14,
     "metadata": {},
     "output_type": "execute_result"
    },
    {
     "data": {
      "image/png": "[encoded data removed]",
      "text/plain": [
       "<Figure size 432x288 with 1 Axes>"
      ]
     },
     "metadata": {},
     "output_type": "display_data"
    }
   ],
   "source": [
    "# proporsi churn pada train set\n",
    "\n",
    "y_train.value_counts(normalize=True).plot(kind='pie', autopct='%1.1f%%', startangle=90, shadow=False, \n",
    "                                               legend = False, fontsize=14)"
   ]
  },
  {
   "cell_type": "code",
   "execution_count": 15,
   "id": "706adf60",
   "metadata": {},
   "outputs": [
    {
     "data": {
      "text/plain": [
       "<AxesSubplot:ylabel='Churn'>"
      ]
     },
     "execution_count": 15,
     "metadata": {},
     "output_type": "execute_result"
    },
    {
     "data": {
      "image/png": "[encoded data removed]",
      "text/plain": [
       "<Figure size 432x288 with 1 Axes>"
      ]
     },
     "metadata": {},
     "output_type": "display_data"
    }
   ],
   "source": [
    "# proporsi churn pada test set\n",
    "\n",
    "y_test.value_counts(normalize=True).plot(kind='pie', autopct='%1.1f%%', startangle=90, shadow=False, \n",
    "                                               legend = False, fontsize=14)"
   ]
  },
  {
   "cell_type": "markdown",
   "id": "04ea7a7d",
   "metadata": {},
   "source": [
    "# Data Understanding\n",
    "---"
   ]
  },
  {
   "cell_type": "code",
   "execution_count": 16,
   "id": "16a43a28",
   "metadata": {},
   "outputs": [
    {
     "name": "stdout",
     "output_type": "stream",
     "text": [
      "Train data shape: (200, 10)\n"
     ]
    },
    {
     "data": {
      "text/html": [
       "<div>\n",
       "<style scoped>\n",
       "    .dataframe tbody tr th:only-of-type {\n",
       "        vertical-align: middle;\n",
       "    }\n",
       "\n",
       "    .dataframe tbody tr th {\n",
       "        vertical-align: top;\n",
       "    }\n",
       "\n",
       "    .dataframe thead th {\n",
       "        text-align: right;\n",
       "    }\n",
       "</style>\n",
       "<table border=\"1\" class=\"dataframe\">\n",
       "  <thead>\n",
       "    <tr style=\"text-align: right;\">\n",
       "      <th></th>\n",
       "      <th>57</th>\n",
       "      <th>45</th>\n",
       "      <th>270</th>\n",
       "      <th>265</th>\n",
       "      <th>47</th>\n",
       "    </tr>\n",
       "  </thead>\n",
       "  <tbody>\n",
       "    <tr>\n",
       "      <th>LevelID</th>\n",
       "      <td>Junior</td>\n",
       "      <td>Middle</td>\n",
       "      <td>Senior</td>\n",
       "      <td>Senior</td>\n",
       "      <td>Junior</td>\n",
       "    </tr>\n",
       "    <tr>\n",
       "      <th>PerfScoreID</th>\n",
       "      <td>Exceed</td>\n",
       "      <td>Exceed</td>\n",
       "      <td>Exceed</td>\n",
       "      <td>Average</td>\n",
       "      <td>Average</td>\n",
       "    </tr>\n",
       "    <tr>\n",
       "      <th>EngagementSurvey</th>\n",
       "      <td>3.04</td>\n",
       "      <td>3.0</td>\n",
       "      <td>4.1</td>\n",
       "      <td>4.1</td>\n",
       "      <td>3.58</td>\n",
       "    </tr>\n",
       "    <tr>\n",
       "      <th>EmpSatisfaction</th>\n",
       "      <td>3</td>\n",
       "      <td>5</td>\n",
       "      <td>4</td>\n",
       "      <td>4</td>\n",
       "      <td>5</td>\n",
       "    </tr>\n",
       "    <tr>\n",
       "      <th>SpecialProjectsCount</th>\n",
       "      <td>6</td>\n",
       "      <td>0</td>\n",
       "      <td>0</td>\n",
       "      <td>0</td>\n",
       "      <td>0</td>\n",
       "    </tr>\n",
       "    <tr>\n",
       "      <th>DaysLateLast30</th>\n",
       "      <td>0</td>\n",
       "      <td>0</td>\n",
       "      <td>0</td>\n",
       "      <td>0</td>\n",
       "      <td>0</td>\n",
       "    </tr>\n",
       "    <tr>\n",
       "      <th>Absences</th>\n",
       "      <td>2</td>\n",
       "      <td>17</td>\n",
       "      <td>18</td>\n",
       "      <td>16</td>\n",
       "      <td>3</td>\n",
       "    </tr>\n",
       "    <tr>\n",
       "      <th>Age</th>\n",
       "      <td>34</td>\n",
       "      <td>51</td>\n",
       "      <td>32</td>\n",
       "      <td>44</td>\n",
       "      <td>33</td>\n",
       "    </tr>\n",
       "    <tr>\n",
       "      <th>Duration</th>\n",
       "      <td>6</td>\n",
       "      <td>9</td>\n",
       "      <td>10</td>\n",
       "      <td>4</td>\n",
       "      <td>9</td>\n",
       "    </tr>\n",
       "    <tr>\n",
       "      <th>Churn</th>\n",
       "      <td>0</td>\n",
       "      <td>0</td>\n",
       "      <td>0</td>\n",
       "      <td>1</td>\n",
       "      <td>0</td>\n",
       "    </tr>\n",
       "  </tbody>\n",
       "</table>\n",
       "</div>"
      ],
      "text/plain": [
       "                         57      45      270      265      47 \n",
       "LevelID               Junior  Middle  Senior   Senior   Junior\n",
       "PerfScoreID           Exceed  Exceed  Exceed  Average  Average\n",
       "EngagementSurvey        3.04     3.0     4.1      4.1     3.58\n",
       "EmpSatisfaction            3       5       4        4        5\n",
       "SpecialProjectsCount       6       0       0        0        0\n",
       "DaysLateLast30             0       0       0        0        0\n",
       "Absences                   2      17      18       16        3\n",
       "Age                       34      51      32       44       33\n",
       "Duration                   6       9      10        4        9\n",
       "Churn                      0       0       0        1        0"
      ]
     },
     "execution_count": 16,
     "metadata": {},
     "output_type": "execute_result"
    }
   ],
   "source": [
    "# Concat X_train dan y_train sebagai data_train\n",
    "data_train = pd.concat((X_train, y_train), axis=1)\n",
    "\n",
    "print('Train data shape:', data_train.shape)\n",
    "data_train.head().T"
   ]
  },
  {
   "cell_type": "markdown",
   "id": "39aa87ac",
   "metadata": {},
   "source": [
    "## Check for Missing Values\n",
    "\n",
    "---"
   ]
  },
  {
   "cell_type": "code",
   "execution_count": 17,
   "id": "482ce640",
   "metadata": {},
   "outputs": [
    {
     "data": {
      "text/html": [
       "<div>\n",
       "<style scoped>\n",
       "    .dataframe tbody tr th:only-of-type {\n",
       "        vertical-align: middle;\n",
       "    }\n",
       "\n",
       "    .dataframe tbody tr th {\n",
       "        vertical-align: top;\n",
       "    }\n",
       "\n",
       "    .dataframe thead th {\n",
       "        text-align: right;\n",
       "    }\n",
       "</style>\n",
       "<table border=\"1\" class=\"dataframe\">\n",
       "  <thead>\n",
       "    <tr style=\"text-align: right;\">\n",
       "      <th></th>\n",
       "      <th>missing value</th>\n",
       "    </tr>\n",
       "  </thead>\n",
       "  <tbody>\n",
       "    <tr>\n",
       "      <th>LevelID</th>\n",
       "      <td>0</td>\n",
       "    </tr>\n",
       "    <tr>\n",
       "      <th>PerfScoreID</th>\n",
       "      <td>0</td>\n",
       "    </tr>\n",
       "    <tr>\n",
       "      <th>EngagementSurvey</th>\n",
       "      <td>0</td>\n",
       "    </tr>\n",
       "    <tr>\n",
       "      <th>EmpSatisfaction</th>\n",
       "      <td>0</td>\n",
       "    </tr>\n",
       "    <tr>\n",
       "      <th>SpecialProjectsCount</th>\n",
       "      <td>0</td>\n",
       "    </tr>\n",
       "    <tr>\n",
       "      <th>DaysLateLast30</th>\n",
       "      <td>0</td>\n",
       "    </tr>\n",
       "    <tr>\n",
       "      <th>Absences</th>\n",
       "      <td>0</td>\n",
       "    </tr>\n",
       "    <tr>\n",
       "      <th>Age</th>\n",
       "      <td>0</td>\n",
       "    </tr>\n",
       "    <tr>\n",
       "      <th>Duration</th>\n",
       "      <td>0</td>\n",
       "    </tr>\n",
       "    <tr>\n",
       "      <th>Churn</th>\n",
       "      <td>0</td>\n",
       "    </tr>\n",
       "  </tbody>\n",
       "</table>\n",
       "</div>"
      ],
      "text/plain": [
       "                      missing value\n",
       "LevelID                           0\n",
       "PerfScoreID                       0\n",
       "EngagementSurvey                  0\n",
       "EmpSatisfaction                   0\n",
       "SpecialProjectsCount              0\n",
       "DaysLateLast30                    0\n",
       "Absences                          0\n",
       "Age                               0\n",
       "Duration                          0\n",
       "Churn                             0"
      ]
     },
     "execution_count": 17,
     "metadata": {},
     "output_type": "execute_result"
    }
   ],
   "source": [
    "# Cek missing values\n",
    "pd.DataFrame(data_train.isna().sum()).rename(columns = {0: 'missing value'})"
   ]
  },
  {
   "cell_type": "code",
   "execution_count": 18,
   "id": "fb9972fe",
   "metadata": {},
   "outputs": [
    {
     "name": "stdout",
     "output_type": "stream",
     "text": [
      "<class 'pandas.core.frame.DataFrame'>\n",
      "Int64Index: 200 entries, 57 to 174\n",
      "Data columns (total 10 columns):\n",
      " #   Column                Non-Null Count  Dtype  \n",
      "---  ------                --------------  -----  \n",
      " 0   LevelID               200 non-null    object \n",
      " 1   PerfScoreID           200 non-null    object \n",
      " 2   EngagementSurvey      200 non-null    float64\n",
      " 3   EmpSatisfaction       200 non-null    int64  \n",
      " 4   SpecialProjectsCount  200 non-null    int64  \n",
      " 5   DaysLateLast30        200 non-null    int64  \n",
      " 6   Absences              200 non-null    int64  \n",
      " 7   Age                   200 non-null    int64  \n",
      " 8   Duration              200 non-null    int64  \n",
      " 9   Churn                 200 non-null    int64  \n",
      "dtypes: float64(1), int64(7), object(2)\n",
      "memory usage: 17.2+ KB\n"
     ]
    }
   ],
   "source": [
    "# Cek tipe data\n",
    "data_train.info()"
   ]
  },
  {
   "cell_type": "markdown",
   "id": "f8555d66",
   "metadata": {},
   "source": [
    "## Exploratory Data Analysis\n",
    "--- "
   ]
  },
  {
   "cell_type": "code",
   "execution_count": 19,
   "id": "c52650e5",
   "metadata": {},
   "outputs": [],
   "source": [
    "cat_ = ['LevelID', 'PerfScoreID', 'EmpSatisfaction']\n",
    "num_ = ['EngagementSurvey', 'SpecialProjectsCount', 'DaysLateLast30', \n",
    "        'Absences', 'Age', 'Duration']"
   ]
  },
  {
   "cell_type": "code",
   "execution_count": 20,
   "id": "da76e06c",
   "metadata": {},
   "outputs": [
    {
     "data": {
      "image/png": "[encoded data removed]",
      "text/plain": [
       "<Figure size 864x1296 with 3 Axes>"
      ]
     },
     "metadata": {
      "needs_background": "light"
     },
     "output_type": "display_data"
    }
   ],
   "source": [
    "fig=plt.subplots(figsize=(12,18))\n",
    "for i, j in enumerate(cat_):\n",
    "    plt.subplot(4, 2, i+1)\n",
    "    plt.subplots_adjust(hspace = 1.0)\n",
    "    sns.countplot(x=j, data=data_train, hue='Churn')\n",
    "    plt.xticks(rotation=90)\n",
    "    plt.title(\"No. of employee\")"
   ]
  },
  {
   "cell_type": "code",
   "execution_count": 21,
   "id": "03f49603",
   "metadata": {},
   "outputs": [
    {
     "data": {
      "image/png": "[encoded data removed]",
      "text/plain": [
       "<Figure size 864x864 with 6 Axes>"
      ]
     },
     "metadata": {
      "needs_background": "light"
     },
     "output_type": "display_data"
    }
   ],
   "source": [
    "fig, axes = plt.subplots(nrows=3, ncols=2, figsize=(12, 12), sharex=False, sharey=False)\n",
    "axes = axes.ravel()  # array to 1D\n",
    "cols = num_\n",
    "\n",
    "for col, ax in zip(cols, axes):\n",
    "    data = df[[col, 'Churn']]  # select the data\n",
    "    sns.kdeplot(data=data, x=col, hue='Churn', fill=True, ax=ax)\n",
    "    ax.set(title=f'Distribution of {col}', xlabel=None)\n",
    "    \n",
    "fig.tight_layout()\n",
    "plt.show()"
   ]
  },
  {
   "cell_type": "markdown",
   "id": "3fb729cb",
   "metadata": {},
   "source": [
    "# Data Preprocessing\n",
    "---"
   ]
  },
  {
   "cell_type": "markdown",
   "id": "28c71d51",
   "metadata": {},
   "source": [
    "## Make Dummies\n",
    "---"
   ]
  },
  {
   "cell_type": "markdown",
   "id": "03eefdb7",
   "metadata": {},
   "source": [
    "Berdasarkan EDA, ada 3 prediktor kategorik yaitu `LevelID`, `PerfScoreID` , dan `EmpSatisfaction`. Prediktor `EmpSatisfaction` sudah menjadi ordinal dalam bentuk angka. Sedangkan prediktor `LevelID` dan  `PerfScoreID` harus dilakukan transformasi. Kedua prediktor tersebut ordinal. Sehingga, transformasi kategorik menjadi numerik diurutkan dari level terendah hingga level tertinggi."
   ]
  },
  {
   "cell_type": "code",
   "execution_count": 22,
   "id": "ac46d237",
   "metadata": {},
   "outputs": [],
   "source": [
    "# Dict LevelID\n",
    "level = {\n",
    "    \"Junior\" : 1,\n",
    "    \"Middle\": 2, \n",
    "    \"Senior\": 3\n",
    "}\n",
    "\n",
    "# Dict PerfScoreID\n",
    "perf = {\n",
    "    \"Special treatment\" : 1,\n",
    "    \"Need improvement\": 2,\n",
    "    \"Average\": 3,\n",
    "    \"Fully meets\": 4,\n",
    "    \"Exceed\": 5\n",
    "}\n",
    " \n",
    "# Transformasi kategorik menjadi numerik pada data Train\n",
    "X_train['LevelID'] = X_train['LevelID'].map(level)\n",
    "X_train['PerfScoreID'] = X_train['PerfScoreID'].map(perf)\n",
    "\n",
    "# Transformasi kategorik menjadi numerik pada data Test\n",
    "X_test['LevelID'] = X_test['LevelID'].map(level)\n",
    "X_test['PerfScoreID'] = X_test['PerfScoreID'].map(perf)"
   ]
  },
  {
   "cell_type": "markdown",
   "id": "c4814ad3",
   "metadata": {},
   "source": [
    "## Scaling Data\n",
    "---"
   ]
  },
  {
   "cell_type": "code",
   "execution_count": 23,
   "id": "2e29ecf3",
   "metadata": {},
   "outputs": [
    {
     "data": {
      "text/html": [
       "<style>#sk-container-id-1 {color: black;background-color: white;}#sk-container-id-1 pre{padding: 0;}#sk-container-id-1 div.sk-toggleable {background-color: white;}#sk-container-id-1 label.sk-toggleable__label {cursor: pointer;display: block;width: 100%;margin-bottom: 0;padding: 0.3em;box-sizing: border-box;text-align: center;}#sk-container-id-1 label.sk-toggleable__label-arrow:before {content: \"▸\";float: left;margin-right: 0.25em;color: #696969;}#sk-container-id-1 label.sk-toggleable__label-arrow:hover:before {color: black;}#sk-container-id-1 div.sk-estimator:hover label.sk-toggleable__label-arrow:before {color: black;}#sk-container-id-1 div.sk-toggleable__content {max-height: 0;max-width: 0;overflow: hidden;text-align: left;background-color: #f0f8ff;}#sk-container-id-1 div.sk-toggleable__content pre {margin: 0.2em;color: black;border-radius: 0.25em;background-color: #f0f8ff;}#sk-container-id-1 input.sk-toggleable__control:checked~div.sk-toggleable__content {max-height: 200px;max-width: 100%;overflow: auto;}#sk-container-id-1 input.sk-toggleable__control:checked~label.sk-toggleable__label-arrow:before {content: \"▾\";}#sk-container-id-1 div.sk-estimator input.sk-toggleable__control:checked~label.sk-toggleable__label {background-color: #d4ebff;}#sk-container-id-1 div.sk-label input.sk-toggleable__control:checked~label.sk-toggleable__label {background-color: #d4ebff;}#sk-container-id-1 input.sk-hidden--visually {border: 0;clip: rect(1px 1px 1px 1px);clip: rect(1px, 1px, 1px, 1px);height: 1px;margin: -1px;overflow: hidden;padding: 0;position: absolute;width: 1px;}#sk-container-id-1 div.sk-estimator {font-family: monospace;background-color: #f0f8ff;border: 1px dotted black;border-radius: 0.25em;box-sizing: border-box;margin-bottom: 0.5em;}#sk-container-id-1 div.sk-estimator:hover {background-color: #d4ebff;}#sk-container-id-1 div.sk-parallel-item::after {content: \"\";width: 100%;border-bottom: 1px solid gray;flex-grow: 1;}#sk-container-id-1 div.sk-label:hover label.sk-toggleable__label {background-color: #d4ebff;}#sk-container-id-1 div.sk-serial::before {content: \"\";position: absolute;border-left: 1px solid gray;box-sizing: border-box;top: 0;bottom: 0;left: 50%;z-index: 0;}#sk-container-id-1 div.sk-serial {display: flex;flex-direction: column;align-items: center;background-color: white;padding-right: 0.2em;padding-left: 0.2em;position: relative;}#sk-container-id-1 div.sk-item {position: relative;z-index: 1;}#sk-container-id-1 div.sk-parallel {display: flex;align-items: stretch;justify-content: center;background-color: white;position: relative;}#sk-container-id-1 div.sk-item::before, #sk-container-id-1 div.sk-parallel-item::before {content: \"\";position: absolute;border-left: 1px solid gray;box-sizing: border-box;top: 0;bottom: 0;left: 50%;z-index: -1;}#sk-container-id-1 div.sk-parallel-item {display: flex;flex-direction: column;z-index: 1;position: relative;background-color: white;}#sk-container-id-1 div.sk-parallel-item:first-child::after {align-self: flex-end;width: 50%;}#sk-container-id-1 div.sk-parallel-item:last-child::after {align-self: flex-start;width: 50%;}#sk-container-id-1 div.sk-parallel-item:only-child::after {width: 0;}#sk-container-id-1 div.sk-dashed-wrapped {border: 1px dashed gray;margin: 0 0.4em 0.5em 0.4em;box-sizing: border-box;padding-bottom: 0.4em;background-color: white;}#sk-container-id-1 div.sk-label label {font-family: monospace;font-weight: bold;display: inline-block;line-height: 1.2em;}#sk-container-id-1 div.sk-label-container {text-align: center;}#sk-container-id-1 div.sk-container {/* jupyter's `normalize.less` sets `[hidden] { display: none; }` but bootstrap.min.css set `[hidden] { display: none !important; }` so we also need the `!important` here to be able to override the default hidden behavior on the sphinx rendered scikit-learn.org. See: https://github.com/scikit-learn/scikit-learn/issues/21755 */display: inline-block !important;position: relative;}#sk-container-id-1 div.sk-text-repr-fallback {display: none;}</style><div id=\"sk-container-id-1\" class=\"sk-top-container\"><div class=\"sk-text-repr-fallback\"><pre>StandardScaler()</pre><b>In a Jupyter environment, please rerun this cell to show the HTML representation or trust the notebook. <br />On GitHub, the HTML representation is unable to render, please try loading this page with nbviewer.org.</b></div><div class=\"sk-container\" hidden><div class=\"sk-item\"><div class=\"sk-estimator sk-toggleable\"><input class=\"sk-toggleable__control sk-hidden--visually\" id=\"sk-estimator-id-1\" type=\"checkbox\" checked><label for=\"sk-estimator-id-1\" class=\"sk-toggleable__label sk-toggleable__label-arrow\">StandardScaler</label><div class=\"sk-toggleable__content\"><pre>StandardScaler()</pre></div></div></div></div></div>"
      ],
      "text/plain": [
       "StandardScaler()"
      ]
     },
     "execution_count": 23,
     "metadata": {},
     "output_type": "execute_result"
    }
   ],
   "source": [
    "# Buat scaler\n",
    "scaler = StandardScaler()\n",
    "scaler.fit(X_train)"
   ]
  },
  {
   "cell_type": "code",
   "execution_count": 24,
   "id": "749fe60a",
   "metadata": {},
   "outputs": [],
   "source": [
    "# Convert X_train & X_test\n",
    "def scaler_transform(data, scaler):\n",
    "    data_scaled = scaler.transform(data)\n",
    "    data_scaled = pd.DataFrame(data_scaled)\n",
    "    data_scaled.columns = data.columns\n",
    "    data_scaled.index = data.index\n",
    "\n",
    "    return data_scaled"
   ]
  },
  {
   "cell_type": "code",
   "execution_count": 25,
   "id": "613d5ee7",
   "metadata": {},
   "outputs": [
    {
     "data": {
      "text/html": [
       "<div>\n",
       "<style scoped>\n",
       "    .dataframe tbody tr th:only-of-type {\n",
       "        vertical-align: middle;\n",
       "    }\n",
       "\n",
       "    .dataframe tbody tr th {\n",
       "        vertical-align: top;\n",
       "    }\n",
       "\n",
       "    .dataframe thead th {\n",
       "        text-align: right;\n",
       "    }\n",
       "</style>\n",
       "<table border=\"1\" class=\"dataframe\">\n",
       "  <thead>\n",
       "    <tr style=\"text-align: right;\">\n",
       "      <th></th>\n",
       "      <th>LevelID</th>\n",
       "      <th>PerfScoreID</th>\n",
       "      <th>EngagementSurvey</th>\n",
       "      <th>EmpSatisfaction</th>\n",
       "      <th>SpecialProjectsCount</th>\n",
       "      <th>DaysLateLast30</th>\n",
       "      <th>Absences</th>\n",
       "      <th>Age</th>\n",
       "      <th>Duration</th>\n",
       "    </tr>\n",
       "  </thead>\n",
       "  <tbody>\n",
       "    <tr>\n",
       "      <th>57</th>\n",
       "      <td>-0.709388</td>\n",
       "      <td>1.197546</td>\n",
       "      <td>-1.424547</td>\n",
       "      <td>-1.137626</td>\n",
       "      <td>2.079111</td>\n",
       "      <td>-0.291745</td>\n",
       "      <td>-1.393525</td>\n",
       "      <td>-0.708183</td>\n",
       "      <td>-0.243537</td>\n",
       "    </tr>\n",
       "    <tr>\n",
       "      <th>45</th>\n",
       "      <td>0.616570</td>\n",
       "      <td>1.197546</td>\n",
       "      <td>-1.475845</td>\n",
       "      <td>1.149059</td>\n",
       "      <td>-0.519778</td>\n",
       "      <td>-0.291745</td>\n",
       "      <td>1.117331</td>\n",
       "      <td>1.306731</td>\n",
       "      <td>1.097035</td>\n",
       "    </tr>\n",
       "    <tr>\n",
       "      <th>270</th>\n",
       "      <td>1.942528</td>\n",
       "      <td>1.197546</td>\n",
       "      <td>-0.065149</td>\n",
       "      <td>0.005717</td>\n",
       "      <td>-0.519778</td>\n",
       "      <td>-0.291745</td>\n",
       "      <td>1.284721</td>\n",
       "      <td>-0.945232</td>\n",
       "      <td>1.543892</td>\n",
       "    </tr>\n",
       "    <tr>\n",
       "      <th>265</th>\n",
       "      <td>1.942528</td>\n",
       "      <td>-0.388607</td>\n",
       "      <td>-0.065149</td>\n",
       "      <td>0.005717</td>\n",
       "      <td>-0.519778</td>\n",
       "      <td>-0.291745</td>\n",
       "      <td>0.949940</td>\n",
       "      <td>0.477061</td>\n",
       "      <td>-1.137252</td>\n",
       "    </tr>\n",
       "    <tr>\n",
       "      <th>47</th>\n",
       "      <td>-0.709388</td>\n",
       "      <td>-0.388607</td>\n",
       "      <td>-0.732023</td>\n",
       "      <td>1.149059</td>\n",
       "      <td>-0.519778</td>\n",
       "      <td>-0.291745</td>\n",
       "      <td>-1.226135</td>\n",
       "      <td>-0.826707</td>\n",
       "      <td>1.097035</td>\n",
       "    </tr>\n",
       "  </tbody>\n",
       "</table>\n",
       "</div>"
      ],
      "text/plain": [
       "      LevelID  PerfScoreID  EngagementSurvey  EmpSatisfaction  \\\n",
       "57  -0.709388     1.197546         -1.424547        -1.137626   \n",
       "45   0.616570     1.197546         -1.475845         1.149059   \n",
       "270  1.942528     1.197546         -0.065149         0.005717   \n",
       "265  1.942528    -0.388607         -0.065149         0.005717   \n",
       "47  -0.709388    -0.388607         -0.732023         1.149059   \n",
       "\n",
       "     SpecialProjectsCount  DaysLateLast30  Absences       Age  Duration  \n",
       "57               2.079111       -0.291745 -1.393525 -0.708183 -0.243537  \n",
       "45              -0.519778       -0.291745  1.117331  1.306731  1.097035  \n",
       "270             -0.519778       -0.291745  1.284721 -0.945232  1.543892  \n",
       "265             -0.519778       -0.291745  0.949940  0.477061 -1.137252  \n",
       "47              -0.519778       -0.291745 -1.226135 -0.826707  1.097035  "
      ]
     },
     "execution_count": 25,
     "metadata": {},
     "output_type": "execute_result"
    }
   ],
   "source": [
    "X_train_scaled = scaler_transform(data = X_train,\n",
    "                                  scaler = scaler)\n",
    "X_train_scaled.head()"
   ]
  },
  {
   "cell_type": "code",
   "execution_count": 26,
   "id": "76d6b700",
   "metadata": {},
   "outputs": [
    {
     "data": {
      "text/html": [
       "<div>\n",
       "<style scoped>\n",
       "    .dataframe tbody tr th:only-of-type {\n",
       "        vertical-align: middle;\n",
       "    }\n",
       "\n",
       "    .dataframe tbody tr th {\n",
       "        vertical-align: top;\n",
       "    }\n",
       "\n",
       "    .dataframe thead th {\n",
       "        text-align: right;\n",
       "    }\n",
       "</style>\n",
       "<table border=\"1\" class=\"dataframe\">\n",
       "  <thead>\n",
       "    <tr style=\"text-align: right;\">\n",
       "      <th></th>\n",
       "      <th>LevelID</th>\n",
       "      <th>PerfScoreID</th>\n",
       "      <th>EngagementSurvey</th>\n",
       "      <th>EmpSatisfaction</th>\n",
       "      <th>SpecialProjectsCount</th>\n",
       "      <th>DaysLateLast30</th>\n",
       "      <th>Absences</th>\n",
       "      <th>Age</th>\n",
       "      <th>Duration</th>\n",
       "    </tr>\n",
       "  </thead>\n",
       "  <tbody>\n",
       "    <tr>\n",
       "      <th>count</th>\n",
       "      <td>2.000000e+02</td>\n",
       "      <td>2.000000e+02</td>\n",
       "      <td>2.000000e+02</td>\n",
       "      <td>2.000000e+02</td>\n",
       "      <td>2.000000e+02</td>\n",
       "      <td>2.000000e+02</td>\n",
       "      <td>2.000000e+02</td>\n",
       "      <td>2.000000e+02</td>\n",
       "      <td>2.000000e+02</td>\n",
       "    </tr>\n",
       "    <tr>\n",
       "      <th>mean</th>\n",
       "      <td>9.214851e-17</td>\n",
       "      <td>-1.698641e-16</td>\n",
       "      <td>-3.008704e-16</td>\n",
       "      <td>-1.784163e-16</td>\n",
       "      <td>3.663736e-17</td>\n",
       "      <td>5.884182e-17</td>\n",
       "      <td>9.325873e-17</td>\n",
       "      <td>-1.798561e-16</td>\n",
       "      <td>3.302913e-17</td>\n",
       "    </tr>\n",
       "    <tr>\n",
       "      <th>std</th>\n",
       "      <td>1.002509e+00</td>\n",
       "      <td>1.002509e+00</td>\n",
       "      <td>1.002509e+00</td>\n",
       "      <td>1.002509e+00</td>\n",
       "      <td>1.002509e+00</td>\n",
       "      <td>1.002509e+00</td>\n",
       "      <td>1.002509e+00</td>\n",
       "      <td>1.002509e+00</td>\n",
       "      <td>1.002509e+00</td>\n",
       "    </tr>\n",
       "    <tr>\n",
       "      <th>min</th>\n",
       "      <td>-7.093875e-01</td>\n",
       "      <td>-1.974761e+00</td>\n",
       "      <td>-3.784258e+00</td>\n",
       "      <td>-3.424311e+00</td>\n",
       "      <td>-5.197777e-01</td>\n",
       "      <td>-2.917448e-01</td>\n",
       "      <td>-1.560915e+00</td>\n",
       "      <td>-1.893427e+00</td>\n",
       "      <td>-2.030967e+00</td>\n",
       "    </tr>\n",
       "    <tr>\n",
       "      <th>25%</th>\n",
       "      <td>-7.093875e-01</td>\n",
       "      <td>-3.886075e-01</td>\n",
       "      <td>-5.396556e-01</td>\n",
       "      <td>-1.137626e+00</td>\n",
       "      <td>-5.197777e-01</td>\n",
       "      <td>-2.917448e-01</td>\n",
       "      <td>-9.332014e-01</td>\n",
       "      <td>-7.081831e-01</td>\n",
       "      <td>-6.903946e-01</td>\n",
       "    </tr>\n",
       "    <tr>\n",
       "      <th>50%</th>\n",
       "      <td>-7.093875e-01</td>\n",
       "      <td>4.044690e-01</td>\n",
       "      <td>1.913418e-01</td>\n",
       "      <td>5.716713e-03</td>\n",
       "      <td>-5.197777e-01</td>\n",
       "      <td>-2.917448e-01</td>\n",
       "      <td>1.129885e-01</td>\n",
       "      <td>-2.340856e-01</td>\n",
       "      <td>-2.435373e-01</td>\n",
       "    </tr>\n",
       "    <tr>\n",
       "      <th>75%</th>\n",
       "      <td>6.165704e-01</td>\n",
       "      <td>1.197546e+00</td>\n",
       "      <td>7.524143e-01</td>\n",
       "      <td>1.149059e+00</td>\n",
       "      <td>-5.197777e-01</td>\n",
       "      <td>-2.917448e-01</td>\n",
       "      <td>9.499405e-01</td>\n",
       "      <td>5.955850e-01</td>\n",
       "      <td>6.501775e-01</td>\n",
       "    </tr>\n",
       "    <tr>\n",
       "      <th>max</th>\n",
       "      <td>1.942528e+00</td>\n",
       "      <td>1.197546e+00</td>\n",
       "      <td>1.089058e+00</td>\n",
       "      <td>1.149059e+00</td>\n",
       "      <td>2.945407e+00</td>\n",
       "      <td>5.265300e+00</td>\n",
       "      <td>1.619502e+00</td>\n",
       "      <td>3.558694e+00</td>\n",
       "      <td>3.778179e+00</td>\n",
       "    </tr>\n",
       "  </tbody>\n",
       "</table>\n",
       "</div>"
      ],
      "text/plain": [
       "            LevelID   PerfScoreID  EngagementSurvey  EmpSatisfaction  \\\n",
       "count  2.000000e+02  2.000000e+02      2.000000e+02     2.000000e+02   \n",
       "mean   9.214851e-17 -1.698641e-16     -3.008704e-16    -1.784163e-16   \n",
       "std    1.002509e+00  1.002509e+00      1.002509e+00     1.002509e+00   \n",
       "min   -7.093875e-01 -1.974761e+00     -3.784258e+00    -3.424311e+00   \n",
       "25%   -7.093875e-01 -3.886075e-01     -5.396556e-01    -1.137626e+00   \n",
       "50%   -7.093875e-01  4.044690e-01      1.913418e-01     5.716713e-03   \n",
       "75%    6.165704e-01  1.197546e+00      7.524143e-01     1.149059e+00   \n",
       "max    1.942528e+00  1.197546e+00      1.089058e+00     1.149059e+00   \n",
       "\n",
       "       SpecialProjectsCount  DaysLateLast30      Absences           Age  \\\n",
       "count          2.000000e+02    2.000000e+02  2.000000e+02  2.000000e+02   \n",
       "mean           3.663736e-17    5.884182e-17  9.325873e-17 -1.798561e-16   \n",
       "std            1.002509e+00    1.002509e+00  1.002509e+00  1.002509e+00   \n",
       "min           -5.197777e-01   -2.917448e-01 -1.560915e+00 -1.893427e+00   \n",
       "25%           -5.197777e-01   -2.917448e-01 -9.332014e-01 -7.081831e-01   \n",
       "50%           -5.197777e-01   -2.917448e-01  1.129885e-01 -2.340856e-01   \n",
       "75%           -5.197777e-01   -2.917448e-01  9.499405e-01  5.955850e-01   \n",
       "max            2.945407e+00    5.265300e+00  1.619502e+00  3.558694e+00   \n",
       "\n",
       "           Duration  \n",
       "count  2.000000e+02  \n",
       "mean   3.302913e-17  \n",
       "std    1.002509e+00  \n",
       "min   -2.030967e+00  \n",
       "25%   -6.903946e-01  \n",
       "50%   -2.435373e-01  \n",
       "75%    6.501775e-01  \n",
       "max    3.778179e+00  "
      ]
     },
     "execution_count": 26,
     "metadata": {},
     "output_type": "execute_result"
    }
   ],
   "source": [
    "X_train_scaled.describe()"
   ]
  },
  {
   "cell_type": "code",
   "execution_count": 27,
   "id": "1fd4ccb3",
   "metadata": {},
   "outputs": [
    {
     "data": {
      "text/html": [
       "<div>\n",
       "<style scoped>\n",
       "    .dataframe tbody tr th:only-of-type {\n",
       "        vertical-align: middle;\n",
       "    }\n",
       "\n",
       "    .dataframe tbody tr th {\n",
       "        vertical-align: top;\n",
       "    }\n",
       "\n",
       "    .dataframe thead th {\n",
       "        text-align: right;\n",
       "    }\n",
       "</style>\n",
       "<table border=\"1\" class=\"dataframe\">\n",
       "  <thead>\n",
       "    <tr style=\"text-align: right;\">\n",
       "      <th></th>\n",
       "      <th>LevelID</th>\n",
       "      <th>PerfScoreID</th>\n",
       "      <th>EngagementSurvey</th>\n",
       "      <th>EmpSatisfaction</th>\n",
       "      <th>SpecialProjectsCount</th>\n",
       "      <th>DaysLateLast30</th>\n",
       "      <th>Absences</th>\n",
       "      <th>Age</th>\n",
       "      <th>Duration</th>\n",
       "    </tr>\n",
       "  </thead>\n",
       "  <tbody>\n",
       "    <tr>\n",
       "      <th>185</th>\n",
       "      <td>-0.709388</td>\n",
       "      <td>1.197546</td>\n",
       "      <td>0.037448</td>\n",
       "      <td>0.005717</td>\n",
       "      <td>-0.519778</td>\n",
       "      <td>-0.291745</td>\n",
       "      <td>1.117331</td>\n",
       "      <td>1.188207</td>\n",
       "      <td>-0.243537</td>\n",
       "    </tr>\n",
       "    <tr>\n",
       "      <th>27</th>\n",
       "      <td>1.942528</td>\n",
       "      <td>-0.388607</td>\n",
       "      <td>-0.975689</td>\n",
       "      <td>-1.137626</td>\n",
       "      <td>-0.519778</td>\n",
       "      <td>-0.291745</td>\n",
       "      <td>0.615160</td>\n",
       "      <td>0.714109</td>\n",
       "      <td>-2.030967</td>\n",
       "    </tr>\n",
       "    <tr>\n",
       "      <th>48</th>\n",
       "      <td>-0.709388</td>\n",
       "      <td>0.404469</td>\n",
       "      <td>0.704322</td>\n",
       "      <td>-1.137626</td>\n",
       "      <td>2.079111</td>\n",
       "      <td>-0.291745</td>\n",
       "      <td>-1.393525</td>\n",
       "      <td>-0.589659</td>\n",
       "      <td>0.650177</td>\n",
       "    </tr>\n",
       "    <tr>\n",
       "      <th>71</th>\n",
       "      <td>-0.709388</td>\n",
       "      <td>-0.388607</td>\n",
       "      <td>0.191342</td>\n",
       "      <td>0.005717</td>\n",
       "      <td>-0.519778</td>\n",
       "      <td>-0.291745</td>\n",
       "      <td>-1.560915</td>\n",
       "      <td>-0.234086</td>\n",
       "      <td>0.203320</td>\n",
       "    </tr>\n",
       "    <tr>\n",
       "      <th>285</th>\n",
       "      <td>-0.709388</td>\n",
       "      <td>1.197546</td>\n",
       "      <td>0.576077</td>\n",
       "      <td>-1.137626</td>\n",
       "      <td>1.212815</td>\n",
       "      <td>-0.291745</td>\n",
       "      <td>-0.221792</td>\n",
       "      <td>-0.471134</td>\n",
       "      <td>0.203320</td>\n",
       "    </tr>\n",
       "  </tbody>\n",
       "</table>\n",
       "</div>"
      ],
      "text/plain": [
       "      LevelID  PerfScoreID  EngagementSurvey  EmpSatisfaction  \\\n",
       "185 -0.709388     1.197546          0.037448         0.005717   \n",
       "27   1.942528    -0.388607         -0.975689        -1.137626   \n",
       "48  -0.709388     0.404469          0.704322        -1.137626   \n",
       "71  -0.709388    -0.388607          0.191342         0.005717   \n",
       "285 -0.709388     1.197546          0.576077        -1.137626   \n",
       "\n",
       "     SpecialProjectsCount  DaysLateLast30  Absences       Age  Duration  \n",
       "185             -0.519778       -0.291745  1.117331  1.188207 -0.243537  \n",
       "27              -0.519778       -0.291745  0.615160  0.714109 -2.030967  \n",
       "48               2.079111       -0.291745 -1.393525 -0.589659  0.650177  \n",
       "71              -0.519778       -0.291745 -1.560915 -0.234086  0.203320  \n",
       "285              1.212815       -0.291745 -0.221792 -0.471134  0.203320  "
      ]
     },
     "execution_count": 27,
     "metadata": {},
     "output_type": "execute_result"
    }
   ],
   "source": [
    "X_test_scaled = scaler_transform(data = X_test,\n",
    "                                 scaler = scaler)\n",
    "X_test_scaled.head()"
   ]
  },
  {
   "cell_type": "markdown",
   "id": "1996d104",
   "metadata": {},
   "source": [
    "# Model Fitting\n",
    "---"
   ]
  },
  {
   "cell_type": "code",
   "execution_count": 28,
   "id": "0aba42b0",
   "metadata": {},
   "outputs": [
    {
     "data": {
      "text/plain": [
       "0    0.740741\n",
       "1    1.538462\n",
       "Name: Churn, dtype: float64"
      ]
     },
     "execution_count": 28,
     "metadata": {},
     "output_type": "execute_result"
    }
   ],
   "source": [
    "# Buat weight class\n",
    "n_samples = len(y_train)\n",
    "n_classes = len(y_train.value_counts())\n",
    "n_samples_j = y_train.value_counts()\n",
    "\n",
    "class_weight = n_samples / (n_classes * n_samples_j)\n",
    "class_weight\n",
    "\n",
    "# Kita kasih weight yang lebih besar untuk kelas 1"
   ]
  },
  {
   "cell_type": "code",
   "execution_count": 29,
   "id": "08c8e596",
   "metadata": {},
   "outputs": [
    {
     "data": {
      "text/html": [
       "<style>#sk-container-id-2 {color: black;background-color: white;}#sk-container-id-2 pre{padding: 0;}#sk-container-id-2 div.sk-toggleable {background-color: white;}#sk-container-id-2 label.sk-toggleable__label {cursor: pointer;display: block;width: 100%;margin-bottom: 0;padding: 0.3em;box-sizing: border-box;text-align: center;}#sk-container-id-2 label.sk-toggleable__label-arrow:before {content: \"▸\";float: left;margin-right: 0.25em;color: #696969;}#sk-container-id-2 label.sk-toggleable__label-arrow:hover:before {color: black;}#sk-container-id-2 div.sk-estimator:hover label.sk-toggleable__label-arrow:before {color: black;}#sk-container-id-2 div.sk-toggleable__content {max-height: 0;max-width: 0;overflow: hidden;text-align: left;background-color: #f0f8ff;}#sk-container-id-2 div.sk-toggleable__content pre {margin: 0.2em;color: black;border-radius: 0.25em;background-color: #f0f8ff;}#sk-container-id-2 input.sk-toggleable__control:checked~div.sk-toggleable__content {max-height: 200px;max-width: 100%;overflow: auto;}#sk-container-id-2 input.sk-toggleable__control:checked~label.sk-toggleable__label-arrow:before {content: \"▾\";}#sk-container-id-2 div.sk-estimator input.sk-toggleable__control:checked~label.sk-toggleable__label {background-color: #d4ebff;}#sk-container-id-2 div.sk-label input.sk-toggleable__control:checked~label.sk-toggleable__label {background-color: #d4ebff;}#sk-container-id-2 input.sk-hidden--visually {border: 0;clip: rect(1px 1px 1px 1px);clip: rect(1px, 1px, 1px, 1px);height: 1px;margin: -1px;overflow: hidden;padding: 0;position: absolute;width: 1px;}#sk-container-id-2 div.sk-estimator {font-family: monospace;background-color: #f0f8ff;border: 1px dotted black;border-radius: 0.25em;box-sizing: border-box;margin-bottom: 0.5em;}#sk-container-id-2 div.sk-estimator:hover {background-color: #d4ebff;}#sk-container-id-2 div.sk-parallel-item::after {content: \"\";width: 100%;border-bottom: 1px solid gray;flex-grow: 1;}#sk-container-id-2 div.sk-label:hover label.sk-toggleable__label {background-color: #d4ebff;}#sk-container-id-2 div.sk-serial::before {content: \"\";position: absolute;border-left: 1px solid gray;box-sizing: border-box;top: 0;bottom: 0;left: 50%;z-index: 0;}#sk-container-id-2 div.sk-serial {display: flex;flex-direction: column;align-items: center;background-color: white;padding-right: 0.2em;padding-left: 0.2em;position: relative;}#sk-container-id-2 div.sk-item {position: relative;z-index: 1;}#sk-container-id-2 div.sk-parallel {display: flex;align-items: stretch;justify-content: center;background-color: white;position: relative;}#sk-container-id-2 div.sk-item::before, #sk-container-id-2 div.sk-parallel-item::before {content: \"\";position: absolute;border-left: 1px solid gray;box-sizing: border-box;top: 0;bottom: 0;left: 50%;z-index: -1;}#sk-container-id-2 div.sk-parallel-item {display: flex;flex-direction: column;z-index: 1;position: relative;background-color: white;}#sk-container-id-2 div.sk-parallel-item:first-child::after {align-self: flex-end;width: 50%;}#sk-container-id-2 div.sk-parallel-item:last-child::after {align-self: flex-start;width: 50%;}#sk-container-id-2 div.sk-parallel-item:only-child::after {width: 0;}#sk-container-id-2 div.sk-dashed-wrapped {border: 1px dashed gray;margin: 0 0.4em 0.5em 0.4em;box-sizing: border-box;padding-bottom: 0.4em;background-color: white;}#sk-container-id-2 div.sk-label label {font-family: monospace;font-weight: bold;display: inline-block;line-height: 1.2em;}#sk-container-id-2 div.sk-label-container {text-align: center;}#sk-container-id-2 div.sk-container {/* jupyter's `normalize.less` sets `[hidden] { display: none; }` but bootstrap.min.css set `[hidden] { display: none !important; }` so we also need the `!important` here to be able to override the default hidden behavior on the sphinx rendered scikit-learn.org. See: https://github.com/scikit-learn/scikit-learn/issues/21755 */display: inline-block !important;position: relative;}#sk-container-id-2 div.sk-text-repr-fallback {display: none;}</style><div id=\"sk-container-id-2\" class=\"sk-top-container\"><div class=\"sk-text-repr-fallback\"><pre>LogisticRegression(penalty=&#x27;none&#x27;, random_state=123)</pre><b>In a Jupyter environment, please rerun this cell to show the HTML representation or trust the notebook. <br />On GitHub, the HTML representation is unable to render, please try loading this page with nbviewer.org.</b></div><div class=\"sk-container\" hidden><div class=\"sk-item\"><div class=\"sk-estimator sk-toggleable\"><input class=\"sk-toggleable__control sk-hidden--visually\" id=\"sk-estimator-id-2\" type=\"checkbox\" checked><label for=\"sk-estimator-id-2\" class=\"sk-toggleable__label sk-toggleable__label-arrow\">LogisticRegression</label><div class=\"sk-toggleable__content\"><pre>LogisticRegression(penalty=&#x27;none&#x27;, random_state=123)</pre></div></div></div></div></div>"
      ],
      "text/plain": [
       "LogisticRegression(penalty='none', random_state=123)"
      ]
     },
     "execution_count": 29,
     "metadata": {},
     "output_type": "execute_result"
    }
   ],
   "source": [
    "# Buat objek\n",
    "logreg_ori = LogisticRegression(penalty = 'none',\n",
    "                                random_state = 123)\n",
    "\n",
    "# Fit model\n",
    "logreg_ori.fit(X_train_scaled, y_train)"
   ]
  },
  {
   "cell_type": "code",
   "execution_count": 30,
   "id": "2306b6af",
   "metadata": {},
   "outputs": [
    {
     "data": {
      "text/html": [
       "<style>#sk-container-id-3 {color: black;background-color: white;}#sk-container-id-3 pre{padding: 0;}#sk-container-id-3 div.sk-toggleable {background-color: white;}#sk-container-id-3 label.sk-toggleable__label {cursor: pointer;display: block;width: 100%;margin-bottom: 0;padding: 0.3em;box-sizing: border-box;text-align: center;}#sk-container-id-3 label.sk-toggleable__label-arrow:before {content: \"▸\";float: left;margin-right: 0.25em;color: #696969;}#sk-container-id-3 label.sk-toggleable__label-arrow:hover:before {color: black;}#sk-container-id-3 div.sk-estimator:hover label.sk-toggleable__label-arrow:before {color: black;}#sk-container-id-3 div.sk-toggleable__content {max-height: 0;max-width: 0;overflow: hidden;text-align: left;background-color: #f0f8ff;}#sk-container-id-3 div.sk-toggleable__content pre {margin: 0.2em;color: black;border-radius: 0.25em;background-color: #f0f8ff;}#sk-container-id-3 input.sk-toggleable__control:checked~div.sk-toggleable__content {max-height: 200px;max-width: 100%;overflow: auto;}#sk-container-id-3 input.sk-toggleable__control:checked~label.sk-toggleable__label-arrow:before {content: \"▾\";}#sk-container-id-3 div.sk-estimator input.sk-toggleable__control:checked~label.sk-toggleable__label {background-color: #d4ebff;}#sk-container-id-3 div.sk-label input.sk-toggleable__control:checked~label.sk-toggleable__label {background-color: #d4ebff;}#sk-container-id-3 input.sk-hidden--visually {border: 0;clip: rect(1px 1px 1px 1px);clip: rect(1px, 1px, 1px, 1px);height: 1px;margin: -1px;overflow: hidden;padding: 0;position: absolute;width: 1px;}#sk-container-id-3 div.sk-estimator {font-family: monospace;background-color: #f0f8ff;border: 1px dotted black;border-radius: 0.25em;box-sizing: border-box;margin-bottom: 0.5em;}#sk-container-id-3 div.sk-estimator:hover {background-color: #d4ebff;}#sk-container-id-3 div.sk-parallel-item::after {content: \"\";width: 100%;border-bottom: 1px solid gray;flex-grow: 1;}#sk-container-id-3 div.sk-label:hover label.sk-toggleable__label {background-color: #d4ebff;}#sk-container-id-3 div.sk-serial::before {content: \"\";position: absolute;border-left: 1px solid gray;box-sizing: border-box;top: 0;bottom: 0;left: 50%;z-index: 0;}#sk-container-id-3 div.sk-serial {display: flex;flex-direction: column;align-items: center;background-color: white;padding-right: 0.2em;padding-left: 0.2em;position: relative;}#sk-container-id-3 div.sk-item {position: relative;z-index: 1;}#sk-container-id-3 div.sk-parallel {display: flex;align-items: stretch;justify-content: center;background-color: white;position: relative;}#sk-container-id-3 div.sk-item::before, #sk-container-id-3 div.sk-parallel-item::before {content: \"\";position: absolute;border-left: 1px solid gray;box-sizing: border-box;top: 0;bottom: 0;left: 50%;z-index: -1;}#sk-container-id-3 div.sk-parallel-item {display: flex;flex-direction: column;z-index: 1;position: relative;background-color: white;}#sk-container-id-3 div.sk-parallel-item:first-child::after {align-self: flex-end;width: 50%;}#sk-container-id-3 div.sk-parallel-item:last-child::after {align-self: flex-start;width: 50%;}#sk-container-id-3 div.sk-parallel-item:only-child::after {width: 0;}#sk-container-id-3 div.sk-dashed-wrapped {border: 1px dashed gray;margin: 0 0.4em 0.5em 0.4em;box-sizing: border-box;padding-bottom: 0.4em;background-color: white;}#sk-container-id-3 div.sk-label label {font-family: monospace;font-weight: bold;display: inline-block;line-height: 1.2em;}#sk-container-id-3 div.sk-label-container {text-align: center;}#sk-container-id-3 div.sk-container {/* jupyter's `normalize.less` sets `[hidden] { display: none; }` but bootstrap.min.css set `[hidden] { display: none !important; }` so we also need the `!important` here to be able to override the default hidden behavior on the sphinx rendered scikit-learn.org. See: https://github.com/scikit-learn/scikit-learn/issues/21755 */display: inline-block !important;position: relative;}#sk-container-id-3 div.sk-text-repr-fallback {display: none;}</style><div id=\"sk-container-id-3\" class=\"sk-top-container\"><div class=\"sk-text-repr-fallback\"><pre>LogisticRegression(class_weight={0: 0.7407407407407407, 1: 1.5384615384615385},\n",
       "                   penalty=&#x27;none&#x27;, random_state=123)</pre><b>In a Jupyter environment, please rerun this cell to show the HTML representation or trust the notebook. <br />On GitHub, the HTML representation is unable to render, please try loading this page with nbviewer.org.</b></div><div class=\"sk-container\" hidden><div class=\"sk-item\"><div class=\"sk-estimator sk-toggleable\"><input class=\"sk-toggleable__control sk-hidden--visually\" id=\"sk-estimator-id-3\" type=\"checkbox\" checked><label for=\"sk-estimator-id-3\" class=\"sk-toggleable__label sk-toggleable__label-arrow\">LogisticRegression</label><div class=\"sk-toggleable__content\"><pre>LogisticRegression(class_weight={0: 0.7407407407407407, 1: 1.5384615384615385},\n",
       "                   penalty=&#x27;none&#x27;, random_state=123)</pre></div></div></div></div></div>"
      ],
      "text/plain": [
       "LogisticRegression(class_weight={0: 0.7407407407407407, 1: 1.5384615384615385},\n",
       "                   penalty='none', random_state=123)"
      ]
     },
     "execution_count": 30,
     "metadata": {},
     "output_type": "execute_result"
    }
   ],
   "source": [
    "# Buat objek\n",
    "logreg_weight = LogisticRegression(penalty = 'none',\n",
    "                                   class_weight = dict(class_weight),\n",
    "                                   random_state = 123)\n",
    "\n",
    "# Fit model\n",
    "logreg_weight.fit(X_train_scaled, y_train)"
   ]
  },
  {
   "cell_type": "code",
   "execution_count": 31,
   "id": "5fc297d8",
   "metadata": {},
   "outputs": [
    {
     "data": {
      "text/html": [
       "<style>#sk-container-id-4 {color: black;background-color: white;}#sk-container-id-4 pre{padding: 0;}#sk-container-id-4 div.sk-toggleable {background-color: white;}#sk-container-id-4 label.sk-toggleable__label {cursor: pointer;display: block;width: 100%;margin-bottom: 0;padding: 0.3em;box-sizing: border-box;text-align: center;}#sk-container-id-4 label.sk-toggleable__label-arrow:before {content: \"▸\";float: left;margin-right: 0.25em;color: #696969;}#sk-container-id-4 label.sk-toggleable__label-arrow:hover:before {color: black;}#sk-container-id-4 div.sk-estimator:hover label.sk-toggleable__label-arrow:before {color: black;}#sk-container-id-4 div.sk-toggleable__content {max-height: 0;max-width: 0;overflow: hidden;text-align: left;background-color: #f0f8ff;}#sk-container-id-4 div.sk-toggleable__content pre {margin: 0.2em;color: black;border-radius: 0.25em;background-color: #f0f8ff;}#sk-container-id-4 input.sk-toggleable__control:checked~div.sk-toggleable__content {max-height: 200px;max-width: 100%;overflow: auto;}#sk-container-id-4 input.sk-toggleable__control:checked~label.sk-toggleable__label-arrow:before {content: \"▾\";}#sk-container-id-4 div.sk-estimator input.sk-toggleable__control:checked~label.sk-toggleable__label {background-color: #d4ebff;}#sk-container-id-4 div.sk-label input.sk-toggleable__control:checked~label.sk-toggleable__label {background-color: #d4ebff;}#sk-container-id-4 input.sk-hidden--visually {border: 0;clip: rect(1px 1px 1px 1px);clip: rect(1px, 1px, 1px, 1px);height: 1px;margin: -1px;overflow: hidden;padding: 0;position: absolute;width: 1px;}#sk-container-id-4 div.sk-estimator {font-family: monospace;background-color: #f0f8ff;border: 1px dotted black;border-radius: 0.25em;box-sizing: border-box;margin-bottom: 0.5em;}#sk-container-id-4 div.sk-estimator:hover {background-color: #d4ebff;}#sk-container-id-4 div.sk-parallel-item::after {content: \"\";width: 100%;border-bottom: 1px solid gray;flex-grow: 1;}#sk-container-id-4 div.sk-label:hover label.sk-toggleable__label {background-color: #d4ebff;}#sk-container-id-4 div.sk-serial::before {content: \"\";position: absolute;border-left: 1px solid gray;box-sizing: border-box;top: 0;bottom: 0;left: 50%;z-index: 0;}#sk-container-id-4 div.sk-serial {display: flex;flex-direction: column;align-items: center;background-color: white;padding-right: 0.2em;padding-left: 0.2em;position: relative;}#sk-container-id-4 div.sk-item {position: relative;z-index: 1;}#sk-container-id-4 div.sk-parallel {display: flex;align-items: stretch;justify-content: center;background-color: white;position: relative;}#sk-container-id-4 div.sk-item::before, #sk-container-id-4 div.sk-parallel-item::before {content: \"\";position: absolute;border-left: 1px solid gray;box-sizing: border-box;top: 0;bottom: 0;left: 50%;z-index: -1;}#sk-container-id-4 div.sk-parallel-item {display: flex;flex-direction: column;z-index: 1;position: relative;background-color: white;}#sk-container-id-4 div.sk-parallel-item:first-child::after {align-self: flex-end;width: 50%;}#sk-container-id-4 div.sk-parallel-item:last-child::after {align-self: flex-start;width: 50%;}#sk-container-id-4 div.sk-parallel-item:only-child::after {width: 0;}#sk-container-id-4 div.sk-dashed-wrapped {border: 1px dashed gray;margin: 0 0.4em 0.5em 0.4em;box-sizing: border-box;padding-bottom: 0.4em;background-color: white;}#sk-container-id-4 div.sk-label label {font-family: monospace;font-weight: bold;display: inline-block;line-height: 1.2em;}#sk-container-id-4 div.sk-label-container {text-align: center;}#sk-container-id-4 div.sk-container {/* jupyter's `normalize.less` sets `[hidden] { display: none; }` but bootstrap.min.css set `[hidden] { display: none !important; }` so we also need the `!important` here to be able to override the default hidden behavior on the sphinx rendered scikit-learn.org. See: https://github.com/scikit-learn/scikit-learn/issues/21755 */display: inline-block !important;position: relative;}#sk-container-id-4 div.sk-text-repr-fallback {display: none;}</style><div id=\"sk-container-id-4\" class=\"sk-top-container\"><div class=\"sk-text-repr-fallback\"><pre>LogisticRegression(C=20.6913808111479,\n",
       "                   class_weight={0: 0.7407407407407407, 1: 1.5384615384615385},\n",
       "                   random_state=123, solver=&#x27;liblinear&#x27;)</pre><b>In a Jupyter environment, please rerun this cell to show the HTML representation or trust the notebook. <br />On GitHub, the HTML representation is unable to render, please try loading this page with nbviewer.org.</b></div><div class=\"sk-container\" hidden><div class=\"sk-item\"><div class=\"sk-estimator sk-toggleable\"><input class=\"sk-toggleable__control sk-hidden--visually\" id=\"sk-estimator-id-4\" type=\"checkbox\" checked><label for=\"sk-estimator-id-4\" class=\"sk-toggleable__label sk-toggleable__label-arrow\">LogisticRegression</label><div class=\"sk-toggleable__content\"><pre>LogisticRegression(C=20.6913808111479,\n",
       "                   class_weight={0: 0.7407407407407407, 1: 1.5384615384615385},\n",
       "                   random_state=123, solver=&#x27;liblinear&#x27;)</pre></div></div></div></div></div>"
      ],
      "text/plain": [
       "LogisticRegression(C=20.6913808111479,\n",
       "                   class_weight={0: 0.7407407407407407, 1: 1.5384615384615385},\n",
       "                   random_state=123, solver='liblinear')"
      ]
     },
     "execution_count": 31,
     "metadata": {},
     "output_type": "execute_result"
    }
   ],
   "source": [
    "# Buat objek\n",
    "logreg = LogisticRegression(class_weight = dict(class_weight),\n",
    "                            solver = \"liblinear\",\n",
    "                            random_state = 123)\n",
    "\n",
    "# Lakukan eksperimentasi\n",
    "search_params = {\"penalty\": [\"l1\", \"l2\"],\n",
    "                 \"C\": np.logspace(-5, 5, 20)}\n",
    "\n",
    "logreg_cv = GridSearchCV(estimator = logreg,\n",
    "                         param_grid = search_params,\n",
    "                         cv = 5)\n",
    "\n",
    "# Lakukan Fitting Data\n",
    "logreg_cv.fit(X = X_train_scaled,\n",
    "              y = y_train)\n",
    "\n",
    "# Buat best model\n",
    "logreg_cv = LogisticRegression(penalty = logreg_cv.best_params_[\"penalty\"],\n",
    "                            C = logreg_cv.best_params_[\"C\"],\n",
    "                            class_weight = dict(class_weight),\n",
    "                            solver = \"liblinear\",\n",
    "                            random_state = 123)\n",
    "\n",
    "# Fit model\n",
    "logreg_cv.fit(X_train_scaled, y_train)"
   ]
  },
  {
   "cell_type": "markdown",
   "id": "11562e5a",
   "metadata": {},
   "source": [
    "## Model Evaluation\n",
    "---"
   ]
  },
  {
   "cell_type": "code",
   "execution_count": 32,
   "id": "ea1f14fe",
   "metadata": {},
   "outputs": [],
   "source": [
    "def metrics(y_test, y_predict, y_predict_proba, model):\n",
    "    \"\"\"\n",
    "    performa metrics yang digunakan yaitu accuracy, precision, recall, avg precision-recall, \n",
    "    ROC AUC, GIni coef, dan log loss\n",
    "    \"\"\"\n",
    "\n",
    "    accuracy = accuracy_score(y_test, y_predict)\n",
    "    precision = precision_score(y_test, y_predict)\n",
    "    recall = recall_score(y_test, y_predict)\n",
    "    log_loss_score = log_loss(y_test, y_predict_proba)\n",
    "    roc_auc = roc_auc_score(y_test, y_predict_proba)\n",
    "    avg_precision_recall = average_precision_score(y_test, y_predict_proba)\n",
    "\n",
    "    matrix = confusion_matrix(y_test, y_predict)\n",
    "    metrics = pd.DataFrame(matrix.ravel()).transpose()\n",
    "    confusion_matrix_dict = {0: \"True Negative\", 1: \"False Positive\", 2: \"False Negative\", 3: \"True Positive\"}\n",
    "    metrics.rename(columns = confusion_matrix_dict, inplace = True)\n",
    "    metrics.insert(0, \"Metrics\", model)\n",
    "    metrics[\"Accuracy\"] = accuracy\n",
    "    metrics[\"Precision\"] = precision\n",
    "    metrics[\"Recall\"] = recall\n",
    "    metrics[\"Average precision-recall score\"] = avg_precision_recall\n",
    "    metrics[\"ROC AUC\"] = roc_auc\n",
    "    metrics[\"Gini coefficient\"] = 2*roc_auc-1\n",
    "    metrics[\"Log Loss\"] = log_loss_score\n",
    "    \n",
    "    return metrics"
   ]
  },
  {
   "cell_type": "code",
   "execution_count": 33,
   "id": "800d888f",
   "metadata": {},
   "outputs": [
    {
     "data": {
      "text/html": [
       "<div>\n",
       "<style scoped>\n",
       "    .dataframe tbody tr th:only-of-type {\n",
       "        vertical-align: middle;\n",
       "    }\n",
       "\n",
       "    .dataframe tbody tr th {\n",
       "        vertical-align: top;\n",
       "    }\n",
       "\n",
       "    .dataframe thead th {\n",
       "        text-align: right;\n",
       "    }\n",
       "</style>\n",
       "<table border=\"1\" class=\"dataframe\">\n",
       "  <thead>\n",
       "    <tr style=\"text-align: right;\">\n",
       "      <th></th>\n",
       "      <th>Train: Original</th>\n",
       "      <th>Train: Weighted/</th>\n",
       "      <th>Train: GridSearchCV</th>\n",
       "    </tr>\n",
       "  </thead>\n",
       "  <tbody>\n",
       "    <tr>\n",
       "      <th>True Negative</th>\n",
       "      <td>124</td>\n",
       "      <td>107</td>\n",
       "      <td>107</td>\n",
       "    </tr>\n",
       "    <tr>\n",
       "      <th>False Positive</th>\n",
       "      <td>11</td>\n",
       "      <td>28</td>\n",
       "      <td>28</td>\n",
       "    </tr>\n",
       "    <tr>\n",
       "      <th>False Negative</th>\n",
       "      <td>24</td>\n",
       "      <td>15</td>\n",
       "      <td>15</td>\n",
       "    </tr>\n",
       "    <tr>\n",
       "      <th>True Positive</th>\n",
       "      <td>41</td>\n",
       "      <td>50</td>\n",
       "      <td>50</td>\n",
       "    </tr>\n",
       "    <tr>\n",
       "      <th>Accuracy</th>\n",
       "      <td>0.825</td>\n",
       "      <td>0.785</td>\n",
       "      <td>0.785</td>\n",
       "    </tr>\n",
       "    <tr>\n",
       "      <th>Precision</th>\n",
       "      <td>0.788462</td>\n",
       "      <td>0.641026</td>\n",
       "      <td>0.641026</td>\n",
       "    </tr>\n",
       "    <tr>\n",
       "      <th>Recall</th>\n",
       "      <td>0.630769</td>\n",
       "      <td>0.769231</td>\n",
       "      <td>0.769231</td>\n",
       "    </tr>\n",
       "    <tr>\n",
       "      <th>Average precision-recall score</th>\n",
       "      <td>0.810123</td>\n",
       "      <td>0.801898</td>\n",
       "      <td>0.801898</td>\n",
       "    </tr>\n",
       "    <tr>\n",
       "      <th>ROC AUC</th>\n",
       "      <td>0.862564</td>\n",
       "      <td>0.86188</td>\n",
       "      <td>0.86188</td>\n",
       "    </tr>\n",
       "    <tr>\n",
       "      <th>Gini coefficient</th>\n",
       "      <td>0.725128</td>\n",
       "      <td>0.723761</td>\n",
       "      <td>0.723761</td>\n",
       "    </tr>\n",
       "    <tr>\n",
       "      <th>Log Loss</th>\n",
       "      <td>0.415955</td>\n",
       "      <td>0.453956</td>\n",
       "      <td>0.454098</td>\n",
       "    </tr>\n",
       "  </tbody>\n",
       "</table>\n",
       "</div>"
      ],
      "text/plain": [
       "                               Train: Original Train: Weighted/  \\\n",
       "True Negative                              124              107   \n",
       "False Positive                              11               28   \n",
       "False Negative                              24               15   \n",
       "True Positive                               41               50   \n",
       "Accuracy                                 0.825            0.785   \n",
       "Precision                             0.788462         0.641026   \n",
       "Recall                                0.630769         0.769231   \n",
       "Average precision-recall score        0.810123         0.801898   \n",
       "ROC AUC                               0.862564          0.86188   \n",
       "Gini coefficient                      0.725128         0.723761   \n",
       "Log Loss                              0.415955         0.453956   \n",
       "\n",
       "                               Train: GridSearchCV  \n",
       "True Negative                                  107  \n",
       "False Positive                                  28  \n",
       "False Negative                                  15  \n",
       "True Positive                                   50  \n",
       "Accuracy                                     0.785  \n",
       "Precision                                 0.641026  \n",
       "Recall                                    0.769231  \n",
       "Average precision-recall score            0.801898  \n",
       "ROC AUC                                    0.86188  \n",
       "Gini coefficient                          0.723761  \n",
       "Log Loss                                  0.454098  "
      ]
     },
     "execution_count": 33,
     "metadata": {},
     "output_type": "execute_result"
    }
   ],
   "source": [
    "# performance metrics untuk masing-masing treatment\n",
    "original_metrics = metrics(y_train, \n",
    "                           logreg_ori.predict(X_train_scaled), \n",
    "                           logreg_ori.predict_proba(X_train_scaled)[:,1], \n",
    "                           \"Train: Original\")\n",
    "weight_metrics = metrics(y_train, \n",
    "                           logreg_weight.predict(X_train_scaled), \n",
    "                           logreg_weight.predict_proba(X_train_scaled)[:,1], \n",
    "                         \"Train: Weighted/\")\n",
    "gridscv_metrics = metrics(y_train, \n",
    "                           logreg_cv.predict(X_train_scaled), \n",
    "                           logreg_cv.predict_proba(X_train_scaled)[:,1], \n",
    "                          \"Train: GridSearchCV\")\n",
    "\n",
    "metrics_train = [original_metrics, weight_metrics, gridscv_metrics]\n",
    "\n",
    "train_metrics = pd.concat(metrics_train)\n",
    "train_metrics = train_metrics.reset_index(drop = True).T\n",
    "train_metrics.columns = list(train_metrics.iloc[0])\n",
    "train_metrics = train_metrics[1:]\n",
    "train_metrics"
   ]
  },
  {
   "cell_type": "code",
   "execution_count": 34,
   "id": "b2421243",
   "metadata": {},
   "outputs": [
    {
     "data": {
      "text/html": [
       "<div>\n",
       "<style scoped>\n",
       "    .dataframe tbody tr th:only-of-type {\n",
       "        vertical-align: middle;\n",
       "    }\n",
       "\n",
       "    .dataframe tbody tr th {\n",
       "        vertical-align: top;\n",
       "    }\n",
       "\n",
       "    .dataframe thead th {\n",
       "        text-align: right;\n",
       "    }\n",
       "</style>\n",
       "<table border=\"1\" class=\"dataframe\">\n",
       "  <thead>\n",
       "    <tr style=\"text-align: right;\">\n",
       "      <th></th>\n",
       "      <th>Test: Original</th>\n",
       "      <th>Test: Weighted</th>\n",
       "      <th>Test: GridSearchCV</th>\n",
       "    </tr>\n",
       "  </thead>\n",
       "  <tbody>\n",
       "    <tr>\n",
       "      <th>True Negative</th>\n",
       "      <td>53</td>\n",
       "      <td>49</td>\n",
       "      <td>50</td>\n",
       "    </tr>\n",
       "    <tr>\n",
       "      <th>False Positive</th>\n",
       "      <td>6</td>\n",
       "      <td>10</td>\n",
       "      <td>9</td>\n",
       "    </tr>\n",
       "    <tr>\n",
       "      <th>False Negative</th>\n",
       "      <td>13</td>\n",
       "      <td>12</td>\n",
       "      <td>12</td>\n",
       "    </tr>\n",
       "    <tr>\n",
       "      <th>True Positive</th>\n",
       "      <td>15</td>\n",
       "      <td>16</td>\n",
       "      <td>16</td>\n",
       "    </tr>\n",
       "    <tr>\n",
       "      <th>Accuracy</th>\n",
       "      <td>0.781609</td>\n",
       "      <td>0.747126</td>\n",
       "      <td>0.758621</td>\n",
       "    </tr>\n",
       "    <tr>\n",
       "      <th>Precision</th>\n",
       "      <td>0.714286</td>\n",
       "      <td>0.615385</td>\n",
       "      <td>0.64</td>\n",
       "    </tr>\n",
       "    <tr>\n",
       "      <th>Recall</th>\n",
       "      <td>0.535714</td>\n",
       "      <td>0.571429</td>\n",
       "      <td>0.571429</td>\n",
       "    </tr>\n",
       "    <tr>\n",
       "      <th>Average precision-recall score</th>\n",
       "      <td>0.74033</td>\n",
       "      <td>0.72344</td>\n",
       "      <td>0.72344</td>\n",
       "    </tr>\n",
       "    <tr>\n",
       "      <th>ROC AUC</th>\n",
       "      <td>0.810533</td>\n",
       "      <td>0.802058</td>\n",
       "      <td>0.802058</td>\n",
       "    </tr>\n",
       "    <tr>\n",
       "      <th>Gini coefficient</th>\n",
       "      <td>0.621065</td>\n",
       "      <td>0.604116</td>\n",
       "      <td>0.604116</td>\n",
       "    </tr>\n",
       "    <tr>\n",
       "      <th>Log Loss</th>\n",
       "      <td>0.504798</td>\n",
       "      <td>0.495427</td>\n",
       "      <td>0.495246</td>\n",
       "    </tr>\n",
       "  </tbody>\n",
       "</table>\n",
       "</div>"
      ],
      "text/plain": [
       "                               Test: Original Test: Weighted  \\\n",
       "True Negative                              53             49   \n",
       "False Positive                              6             10   \n",
       "False Negative                             13             12   \n",
       "True Positive                              15             16   \n",
       "Accuracy                             0.781609       0.747126   \n",
       "Precision                            0.714286       0.615385   \n",
       "Recall                               0.535714       0.571429   \n",
       "Average precision-recall score        0.74033        0.72344   \n",
       "ROC AUC                              0.810533       0.802058   \n",
       "Gini coefficient                     0.621065       0.604116   \n",
       "Log Loss                             0.504798       0.495427   \n",
       "\n",
       "                               Test: GridSearchCV  \n",
       "True Negative                                  50  \n",
       "False Positive                                  9  \n",
       "False Negative                                 12  \n",
       "True Positive                                  16  \n",
       "Accuracy                                 0.758621  \n",
       "Precision                                    0.64  \n",
       "Recall                                   0.571429  \n",
       "Average precision-recall score            0.72344  \n",
       "ROC AUC                                  0.802058  \n",
       "Gini coefficient                         0.604116  \n",
       "Log Loss                                 0.495246  "
      ]
     },
     "execution_count": 34,
     "metadata": {},
     "output_type": "execute_result"
    }
   ],
   "source": [
    "# performance metrics untuk masing-masing treatment\n",
    "original_metrics = metrics(y_test, \n",
    "                           logreg_ori.predict(X_test_scaled), \n",
    "                           logreg_ori.predict_proba(X_test_scaled)[:,1], \n",
    "                           \"Test: Original\")\n",
    "weight_metrics = metrics(y_test, \n",
    "                           logreg_weight.predict(X_test_scaled), \n",
    "                           logreg_weight.predict_proba(X_test_scaled)[:,1], \n",
    "                         \"Test: Weighted\")\n",
    "gridscv_metrics = metrics(y_test, \n",
    "                           logreg_cv.predict(X_test_scaled), \n",
    "                           logreg_cv.predict_proba(X_test_scaled)[:,1], \n",
    "                          \"Test: GridSearchCV\")\n",
    "\n",
    "metrics_test = [original_metrics, weight_metrics, gridscv_metrics]\n",
    "\n",
    "test_metrics = pd.concat(metrics_test)\n",
    "test_metrics = test_metrics.reset_index(drop = True).T\n",
    "test_metrics.columns = list(test_metrics.iloc[0])\n",
    "test_metrics = test_metrics[1:]\n",
    "test_metrics"
   ]
  },
  {
   "cell_type": "markdown",
   "id": "201ad637",
   "metadata": {},
   "source": [
    "# Model Selection\n",
    "---"
   ]
  },
  {
   "cell_type": "code",
   "execution_count": 35,
   "id": "d2611f5b",
   "metadata": {},
   "outputs": [],
   "source": [
    "def kfold_split(X, k=5, random_state=42):\n",
    "    \"\"\"\n",
    "    Function to split sample with validation set approach.\n",
    "\n",
    "    Parameters\n",
    "    ----------\n",
    "    X : {array-like} of shape (n_sample, n_predictors)\n",
    "        All predictors set.\n",
    "\n",
    "    k : int, default = 5\n",
    "        Number of folds.\n",
    "\n",
    "    random_state : int\n",
    "        Pass an int for reproducible output across multiple function calls.\n",
    "\n",
    "    Returns\n",
    "    -------\n",
    "    train_ind_list : list\n",
    "        Contains data index of train set.\n",
    "\n",
    "    valid_ind_list : list\n",
    "        Contains data index of validation set.\n",
    "    \"\"\"\n",
    "    # Extract sample size\n",
    "    n_samples, _ = X.shape\n",
    "\n",
    "    # Set random state\n",
    "    np.random.seed(random_state)\n",
    "\n",
    "    # # Randomize index\n",
    "    random_ind = np.random.choice(n_samples,\n",
    "                                  size = n_samples,\n",
    "                                  replace = False)\n",
    "\n",
    "    # Calculate size of each fold\n",
    "    fold_sizes = np.ones(k, dtype=int) * (n_samples//k)\n",
    "    fold_sizes[:n_samples%k] += 1\n",
    "\n",
    "    # Define initial list for each train and valid index\n",
    "    train_ind_list = []\n",
    "    valid_ind_list = []\n",
    "\n",
    "    # Split sample\n",
    "    current_ind = 0\n",
    "    for size in fold_sizes:\n",
    "        # Define index\n",
    "        start_ind = current_ind\n",
    "        end_ind = current_ind + size\n",
    "\n",
    "        # Slice valid set\n",
    "        # One fold for valid set, the remaining for train set\n",
    "        valid_ind = random_ind[start_ind:end_ind]\n",
    "        train_ind = np.concatenate((random_ind[:start_ind],\n",
    "                                    random_ind[end_ind:]))\n",
    "\n",
    "        # Update current index\n",
    "        current_ind = end_ind\n",
    "\n",
    "        # Append train and valid index in list\n",
    "        train_ind_list.append(train_ind)\n",
    "        valid_ind_list.append(valid_ind)\n",
    "\n",
    "    return train_ind_list, valid_ind_list"
   ]
  },
  {
   "cell_type": "code",
   "execution_count": 36,
   "id": "4db0deba",
   "metadata": {},
   "outputs": [],
   "source": [
    "def cross_validate(X, y, method, cv, random_state=42):\n",
    "    \"\"\"\n",
    "    Function to evaluate AUC by cross-validation method.\n",
    "\n",
    "    Parameters\n",
    "    ----------\n",
    "    X : {array-like} of shape (n_sample, n_predictors)\n",
    "        The independent variable or predictors.\n",
    "\n",
    "    y : {array-like} of shape (n_sample, )\n",
    "        The dependent or response variable.\n",
    "\n",
    "    method : cross-validation splitter\n",
    "        Cross-validation method.\n",
    "\n",
    "    cv : int\n",
    "        Number of folds for k-Fold CV.\n",
    "\n",
    "    random_state : int, default=42\n",
    "        Pass an int for reproducible output across multiple function calls.\n",
    "\n",
    "    Returns\n",
    "    -------\n",
    "    score : float\n",
    "        The average ROC AUC score.\n",
    "    \"\"\"\n",
    "    # Split train and valid set based on CV method\n",
    "    if method == \"validation_set\":\n",
    "        train_ind_list, valid_ind_list = validation_set_split(X = X,\n",
    "                                                              random_state = random_state)\n",
    "    elif method == \"loocv\":\n",
    "        train_ind_list, valid_ind_list = loocv_split(X = X)\n",
    "    elif method == \"kfold\":\n",
    "        train_ind_list, valid_ind_list = kfold_split(X = X,\n",
    "                                                     k = cv,\n",
    "                                                     random_state = random_state)\n",
    "\n",
    "    # Define the number of train sets\n",
    "    n_split = len(train_ind_list)\n",
    "\n",
    "    # Initialize AUC score list for each valid set\n",
    "    score_list = []\n",
    "\n",
    "    for i in range(n_split):\n",
    "        # Extract data from index\n",
    "        X_train = X[train_ind_list[i]]\n",
    "        y_train = y[train_ind_list[i]]\n",
    "        X_valid = X[valid_ind_list[i]]\n",
    "        y_valid = y[valid_ind_list[i]]\n",
    "\n",
    "        # Fitting model\n",
    "        model = LogisticRegression(penalty = 'none',\n",
    "                                   class_weight = dict(class_weight),\n",
    "                                   random_state = 123)\n",
    "        model.fit(X_train, y_train)\n",
    "\n",
    "        # Calculate success probability\n",
    "        pred_train = model.predict_proba(X_train)\n",
    "        pred_valid = model.predict_proba(X_valid)\n",
    "\n",
    "        y_pred_train = pred_train[:,1]\n",
    "        y_pred_valid = pred_valid[:,1]\n",
    "        \n",
    "        roc_auc_valid = roc_auc_score(y_valid, y_pred_valid)\n",
    "        \n",
    "        # Append AUC score in list\n",
    "        score_list.append(roc_auc_valid)\n",
    "\n",
    "    # Calculate CV Score\n",
    "    score = np.mean(score_list)\n",
    "\n",
    "    return score"
   ]
  },
  {
   "cell_type": "code",
   "execution_count": 37,
   "id": "6752821b",
   "metadata": {},
   "outputs": [],
   "source": [
    "def forward(X, y, predictors, method, cv=5, random_state=42):\n",
    "    \"\"\"\n",
    "    Function to perform best subset selection procedure.\n",
    "\n",
    "    Parameters\n",
    "    ----------\n",
    "    X : {array-like} of shape (n_sample, n_predictors)\n",
    "        All predictors set.\n",
    "\n",
    "    y : {array-like} of shape (n_sample, )\n",
    "        The dependent or response variable.\n",
    "\n",
    "    predictors : {array-like} of shape (n_sample, )\n",
    "        Index of predictors\n",
    "\n",
    "    method : cross-validation splitter\n",
    "        Cross-validation method.\n",
    "\n",
    "    cv : int, default=5\n",
    "        Number of folds for k-Fold CV.\n",
    "\n",
    "    random_state : int, default=42\n",
    "        Pass an int for reproducible output across multiple function calls.\n",
    "\n",
    "    Returns\n",
    "    -------\n",
    "    models : {array-like} of shape (n_combinations, k)\n",
    "        Summary of predictors and its AUC score for each possible combination.\n",
    "\n",
    "    best_model : {array-like} of shape (2, )\n",
    "        Best model of models with the smallest AUC score.\n",
    "    \"\"\"\n",
    "\n",
    "    # Initialize list of results\n",
    "    results = []\n",
    "\n",
    "    # Define sample size and  number of all predictors\n",
    "    n_samples, n_predictors = X.shape\n",
    "\n",
    "    # Define list of all predictors\n",
    "    col_list = np.arange(n_predictors)\n",
    "\n",
    "    # Define remaining predictors for each k\n",
    "    remaining_predictors = [p for p in col_list if p not in predictors]\n",
    "\n",
    "    # Initialize list of predictors and its CV Score\n",
    "    pred_list = []\n",
    "    score_list = []\n",
    "\n",
    "    # Cross validate each possible combination of remaining predictors\n",
    "    for p in remaining_predictors:\n",
    "        combi = predictors + [p]\n",
    "\n",
    "        # Extract predictors combination\n",
    "        X_ = X[:, combi]\n",
    "        y_ = y\n",
    "\n",
    "        # Cross validate to get CV Score\n",
    "        score_ = cross_validate(X = X_,\n",
    "                                y = y_,\n",
    "                                method = method,\n",
    "                                cv = cv,\n",
    "                                random_state = random_state)\n",
    "\n",
    "        # Append predictors combination and its CV Score to the list\n",
    "        pred_list.append(list(combi))\n",
    "        score_list.append(score_)\n",
    "\n",
    "    # Tabulate the results\n",
    "    models = pd.DataFrame({\"Predictors\": pred_list,\n",
    "                            \"ROC AUC\": score_list})\n",
    "\n",
    "    # Choose the best model\n",
    "    best_model = models.loc[models[\"ROC AUC\"].argmax()]\n",
    "\n",
    "    return models, best_model"
   ]
  },
  {
   "cell_type": "code",
   "execution_count": 38,
   "id": "0237b693",
   "metadata": {
    "scrolled": false
   },
   "outputs": [
    {
     "data": {
      "text/html": [
       "<div>\n",
       "<style scoped>\n",
       "    .dataframe tbody tr th:only-of-type {\n",
       "        vertical-align: middle;\n",
       "    }\n",
       "\n",
       "    .dataframe tbody tr th {\n",
       "        vertical-align: top;\n",
       "    }\n",
       "\n",
       "    .dataframe thead th {\n",
       "        text-align: right;\n",
       "    }\n",
       "</style>\n",
       "<table border=\"1\" class=\"dataframe\">\n",
       "  <thead>\n",
       "    <tr style=\"text-align: right;\">\n",
       "      <th></th>\n",
       "      <th>Predictors</th>\n",
       "      <th>ROC AUC</th>\n",
       "    </tr>\n",
       "  </thead>\n",
       "  <tbody>\n",
       "    <tr>\n",
       "      <th>0</th>\n",
       "      <td>[]</td>\n",
       "      <td>0.845842</td>\n",
       "    </tr>\n",
       "  </tbody>\n",
       "</table>\n",
       "</div>"
      ],
      "text/plain": [
       "  Predictors   ROC AUC\n",
       "0         []  0.845842"
      ]
     },
     "execution_count": 38,
     "metadata": {},
     "output_type": "execute_result"
    }
   ],
   "source": [
    "# Fit null model\n",
    "predictor = []\n",
    "score_ = cross_validate(X = X_train_scaled.to_numpy(),\n",
    "                        y = y_train.to_numpy(),\n",
    "                        method = 'kfold',\n",
    "                        cv = 5,\n",
    "                        random_state = 42)\n",
    "\n",
    "# Mendefinisakan tabel untuk best model untuk setiap k prediktor\n",
    "forward_models = pd.DataFrame({\"Predictors\": [predictor],\n",
    "                               \"ROC AUC\": [score_]})\n",
    "\n",
    "forward_models"
   ]
  },
  {
   "cell_type": "code",
   "execution_count": 39,
   "id": "433cbcdd",
   "metadata": {},
   "outputs": [],
   "source": [
    "# Definisikan list prediktor\n",
    "predictors = []\n",
    "n_predictors = X_train.shape[1]\n",
    "\n",
    "# Teknik forward selection untuk k=1,...,9 prediktor\n",
    "for k in range(n_predictors):\n",
    "    _, best_model = forward(X = X_train_scaled.to_numpy(),\n",
    "                            y = y_train.to_numpy(),\n",
    "                            predictors = predictors,\n",
    "                            method = \"kfold\",\n",
    "                            cv = 5,\n",
    "                            random_state = 42)\n",
    "\n",
    "    # Tabulasi best model pada masing-masing k prediktor \n",
    "    forward_models.loc[k+1] = best_model\n",
    "    predictors = best_model[\"Predictors\"]"
   ]
  },
  {
   "cell_type": "code",
   "execution_count": 40,
   "id": "596c633b",
   "metadata": {},
   "outputs": [
    {
     "data": {
      "text/html": [
       "<div>\n",
       "<style scoped>\n",
       "    .dataframe tbody tr th:only-of-type {\n",
       "        vertical-align: middle;\n",
       "    }\n",
       "\n",
       "    .dataframe tbody tr th {\n",
       "        vertical-align: top;\n",
       "    }\n",
       "\n",
       "    .dataframe thead th {\n",
       "        text-align: right;\n",
       "    }\n",
       "</style>\n",
       "<table border=\"1\" class=\"dataframe\">\n",
       "  <thead>\n",
       "    <tr style=\"text-align: right;\">\n",
       "      <th></th>\n",
       "      <th>Predictors</th>\n",
       "      <th>ROC AUC</th>\n",
       "    </tr>\n",
       "  </thead>\n",
       "  <tbody>\n",
       "    <tr>\n",
       "      <th>0</th>\n",
       "      <td>[]</td>\n",
       "      <td>0.845842</td>\n",
       "    </tr>\n",
       "    <tr>\n",
       "      <th>1</th>\n",
       "      <td>[8]</td>\n",
       "      <td>0.770881</td>\n",
       "    </tr>\n",
       "    <tr>\n",
       "      <th>2</th>\n",
       "      <td>[8, 4]</td>\n",
       "      <td>0.821808</td>\n",
       "    </tr>\n",
       "    <tr>\n",
       "      <th>3</th>\n",
       "      <td>[8, 4, 5]</td>\n",
       "      <td>0.839900</td>\n",
       "    </tr>\n",
       "    <tr>\n",
       "      <th>4</th>\n",
       "      <td>[8, 4, 5, 6]</td>\n",
       "      <td>0.852738</td>\n",
       "    </tr>\n",
       "    <tr>\n",
       "      <th>5</th>\n",
       "      <td>[8, 4, 5, 6, 0]</td>\n",
       "      <td>0.858617</td>\n",
       "    </tr>\n",
       "    <tr>\n",
       "      <th>6</th>\n",
       "      <td>[8, 4, 5, 6, 0, 3]</td>\n",
       "      <td>0.861094</td>\n",
       "    </tr>\n",
       "    <tr>\n",
       "      <th>7</th>\n",
       "      <td>[8, 4, 5, 6, 0, 3, 1]</td>\n",
       "      <td>0.854141</td>\n",
       "    </tr>\n",
       "    <tr>\n",
       "      <th>8</th>\n",
       "      <td>[8, 4, 5, 6, 0, 3, 1, 7]</td>\n",
       "      <td>0.853322</td>\n",
       "    </tr>\n",
       "    <tr>\n",
       "      <th>9</th>\n",
       "      <td>[8, 4, 5, 6, 0, 3, 1, 7, 2]</td>\n",
       "      <td>0.845842</td>\n",
       "    </tr>\n",
       "  </tbody>\n",
       "</table>\n",
       "</div>"
      ],
      "text/plain": [
       "                    Predictors   ROC AUC\n",
       "0                           []  0.845842\n",
       "1                          [8]  0.770881\n",
       "2                       [8, 4]  0.821808\n",
       "3                    [8, 4, 5]  0.839900\n",
       "4                 [8, 4, 5, 6]  0.852738\n",
       "5              [8, 4, 5, 6, 0]  0.858617\n",
       "6           [8, 4, 5, 6, 0, 3]  0.861094\n",
       "7        [8, 4, 5, 6, 0, 3, 1]  0.854141\n",
       "8     [8, 4, 5, 6, 0, 3, 1, 7]  0.853322\n",
       "9  [8, 4, 5, 6, 0, 3, 1, 7, 2]  0.845842"
      ]
     },
     "execution_count": 40,
     "metadata": {},
     "output_type": "execute_result"
    }
   ],
   "source": [
    "# Best model pada masing-masing k prediktor\n",
    "forward_models"
   ]
  },
  {
   "cell_type": "code",
   "execution_count": 41,
   "id": "888e5fc4",
   "metadata": {},
   "outputs": [
    {
     "name": "stdout",
     "output_type": "stream",
     "text": [
      "Best index            : 6\n",
      "Best ROC AUC          : 0.8610935208161015\n",
      "Best predictors (idx) : [8, 4, 5, 6, 0, 3]\n",
      "Best predictors       :\n",
      "['Duration', 'SpecialProjectsCount', 'DaysLateLast30', 'Absences', 'LevelID', 'EmpSatisfaction']\n"
     ]
    }
   ],
   "source": [
    "# Best AUC score\n",
    "best_idx = forward_models['ROC AUC'].argmax()\n",
    "best_AUC = forward_models['ROC AUC'].loc[best_idx]\n",
    "best_predictors = forward_models['Predictors'].loc[best_idx]\n",
    "best_preds = data_train.columns[best_predictors].tolist()\n",
    "\n",
    "print('Best index            :', best_idx)\n",
    "print('Best ROC AUC          :', best_AUC)\n",
    "print('Best predictors (idx) :', best_predictors)\n",
    "print('Best predictors       :')\n",
    "print(data_train.columns[best_predictors].tolist())"
   ]
  },
  {
   "cell_type": "code",
   "execution_count": 42,
   "id": "c11ba4ad",
   "metadata": {},
   "outputs": [
    {
     "data": {
      "text/html": [
       "<style>#sk-container-id-5 {color: black;background-color: white;}#sk-container-id-5 pre{padding: 0;}#sk-container-id-5 div.sk-toggleable {background-color: white;}#sk-container-id-5 label.sk-toggleable__label {cursor: pointer;display: block;width: 100%;margin-bottom: 0;padding: 0.3em;box-sizing: border-box;text-align: center;}#sk-container-id-5 label.sk-toggleable__label-arrow:before {content: \"▸\";float: left;margin-right: 0.25em;color: #696969;}#sk-container-id-5 label.sk-toggleable__label-arrow:hover:before {color: black;}#sk-container-id-5 div.sk-estimator:hover label.sk-toggleable__label-arrow:before {color: black;}#sk-container-id-5 div.sk-toggleable__content {max-height: 0;max-width: 0;overflow: hidden;text-align: left;background-color: #f0f8ff;}#sk-container-id-5 div.sk-toggleable__content pre {margin: 0.2em;color: black;border-radius: 0.25em;background-color: #f0f8ff;}#sk-container-id-5 input.sk-toggleable__control:checked~div.sk-toggleable__content {max-height: 200px;max-width: 100%;overflow: auto;}#sk-container-id-5 input.sk-toggleable__control:checked~label.sk-toggleable__label-arrow:before {content: \"▾\";}#sk-container-id-5 div.sk-estimator input.sk-toggleable__control:checked~label.sk-toggleable__label {background-color: #d4ebff;}#sk-container-id-5 div.sk-label input.sk-toggleable__control:checked~label.sk-toggleable__label {background-color: #d4ebff;}#sk-container-id-5 input.sk-hidden--visually {border: 0;clip: rect(1px 1px 1px 1px);clip: rect(1px, 1px, 1px, 1px);height: 1px;margin: -1px;overflow: hidden;padding: 0;position: absolute;width: 1px;}#sk-container-id-5 div.sk-estimator {font-family: monospace;background-color: #f0f8ff;border: 1px dotted black;border-radius: 0.25em;box-sizing: border-box;margin-bottom: 0.5em;}#sk-container-id-5 div.sk-estimator:hover {background-color: #d4ebff;}#sk-container-id-5 div.sk-parallel-item::after {content: \"\";width: 100%;border-bottom: 1px solid gray;flex-grow: 1;}#sk-container-id-5 div.sk-label:hover label.sk-toggleable__label {background-color: #d4ebff;}#sk-container-id-5 div.sk-serial::before {content: \"\";position: absolute;border-left: 1px solid gray;box-sizing: border-box;top: 0;bottom: 0;left: 50%;z-index: 0;}#sk-container-id-5 div.sk-serial {display: flex;flex-direction: column;align-items: center;background-color: white;padding-right: 0.2em;padding-left: 0.2em;position: relative;}#sk-container-id-5 div.sk-item {position: relative;z-index: 1;}#sk-container-id-5 div.sk-parallel {display: flex;align-items: stretch;justify-content: center;background-color: white;position: relative;}#sk-container-id-5 div.sk-item::before, #sk-container-id-5 div.sk-parallel-item::before {content: \"\";position: absolute;border-left: 1px solid gray;box-sizing: border-box;top: 0;bottom: 0;left: 50%;z-index: -1;}#sk-container-id-5 div.sk-parallel-item {display: flex;flex-direction: column;z-index: 1;position: relative;background-color: white;}#sk-container-id-5 div.sk-parallel-item:first-child::after {align-self: flex-end;width: 50%;}#sk-container-id-5 div.sk-parallel-item:last-child::after {align-self: flex-start;width: 50%;}#sk-container-id-5 div.sk-parallel-item:only-child::after {width: 0;}#sk-container-id-5 div.sk-dashed-wrapped {border: 1px dashed gray;margin: 0 0.4em 0.5em 0.4em;box-sizing: border-box;padding-bottom: 0.4em;background-color: white;}#sk-container-id-5 div.sk-label label {font-family: monospace;font-weight: bold;display: inline-block;line-height: 1.2em;}#sk-container-id-5 div.sk-label-container {text-align: center;}#sk-container-id-5 div.sk-container {/* jupyter's `normalize.less` sets `[hidden] { display: none; }` but bootstrap.min.css set `[hidden] { display: none !important; }` so we also need the `!important` here to be able to override the default hidden behavior on the sphinx rendered scikit-learn.org. See: https://github.com/scikit-learn/scikit-learn/issues/21755 */display: inline-block !important;position: relative;}#sk-container-id-5 div.sk-text-repr-fallback {display: none;}</style><div id=\"sk-container-id-5\" class=\"sk-top-container\"><div class=\"sk-text-repr-fallback\"><pre>LogisticRegression(class_weight={0: 0.7407407407407407, 1: 1.5384615384615385},\n",
       "                   penalty=&#x27;none&#x27;, random_state=123)</pre><b>In a Jupyter environment, please rerun this cell to show the HTML representation or trust the notebook. <br />On GitHub, the HTML representation is unable to render, please try loading this page with nbviewer.org.</b></div><div class=\"sk-container\" hidden><div class=\"sk-item\"><div class=\"sk-estimator sk-toggleable\"><input class=\"sk-toggleable__control sk-hidden--visually\" id=\"sk-estimator-id-5\" type=\"checkbox\" checked><label for=\"sk-estimator-id-5\" class=\"sk-toggleable__label sk-toggleable__label-arrow\">LogisticRegression</label><div class=\"sk-toggleable__content\"><pre>LogisticRegression(class_weight={0: 0.7407407407407407, 1: 1.5384615384615385},\n",
       "                   penalty=&#x27;none&#x27;, random_state=123)</pre></div></div></div></div></div>"
      ],
      "text/plain": [
       "LogisticRegression(class_weight={0: 0.7407407407407407, 1: 1.5384615384615385},\n",
       "                   penalty='none', random_state=123)"
      ]
     },
     "execution_count": 42,
     "metadata": {},
     "output_type": "execute_result"
    }
   ],
   "source": [
    "# Best predictors\n",
    "X_train_best = X_train_scaled[best_preds]\n",
    "\n",
    "# Buat objek\n",
    "logreg_best = LogisticRegression(penalty = 'none',\n",
    "                                   class_weight = dict(class_weight),\n",
    "                                   random_state = 123)\n",
    "\n",
    "# Fit model\n",
    "logreg_best.fit(X_train_best, y_train)"
   ]
  },
  {
   "cell_type": "code",
   "execution_count": 43,
   "id": "b3386181",
   "metadata": {},
   "outputs": [
    {
     "data": {
      "text/html": [
       "<div>\n",
       "<style scoped>\n",
       "    .dataframe tbody tr th:only-of-type {\n",
       "        vertical-align: middle;\n",
       "    }\n",
       "\n",
       "    .dataframe tbody tr th {\n",
       "        vertical-align: top;\n",
       "    }\n",
       "\n",
       "    .dataframe thead th {\n",
       "        text-align: right;\n",
       "    }\n",
       "</style>\n",
       "<table border=\"1\" class=\"dataframe\">\n",
       "  <thead>\n",
       "    <tr style=\"text-align: right;\">\n",
       "      <th></th>\n",
       "      <th>Train</th>\n",
       "      <th>Test</th>\n",
       "    </tr>\n",
       "  </thead>\n",
       "  <tbody>\n",
       "    <tr>\n",
       "      <th>True Negative</th>\n",
       "      <td>107</td>\n",
       "      <td>46</td>\n",
       "    </tr>\n",
       "    <tr>\n",
       "      <th>False Positive</th>\n",
       "      <td>28</td>\n",
       "      <td>13</td>\n",
       "    </tr>\n",
       "    <tr>\n",
       "      <th>False Negative</th>\n",
       "      <td>14</td>\n",
       "      <td>11</td>\n",
       "    </tr>\n",
       "    <tr>\n",
       "      <th>True Positive</th>\n",
       "      <td>51</td>\n",
       "      <td>17</td>\n",
       "    </tr>\n",
       "    <tr>\n",
       "      <th>Accuracy</th>\n",
       "      <td>0.79</td>\n",
       "      <td>0.724138</td>\n",
       "    </tr>\n",
       "    <tr>\n",
       "      <th>Precision</th>\n",
       "      <td>0.64557</td>\n",
       "      <td>0.566667</td>\n",
       "    </tr>\n",
       "    <tr>\n",
       "      <th>Recall</th>\n",
       "      <td>0.784615</td>\n",
       "      <td>0.607143</td>\n",
       "    </tr>\n",
       "    <tr>\n",
       "      <th>Average precision-recall score</th>\n",
       "      <td>0.788346</td>\n",
       "      <td>0.727852</td>\n",
       "    </tr>\n",
       "    <tr>\n",
       "      <th>ROC AUC</th>\n",
       "      <td>0.855157</td>\n",
       "      <td>0.812954</td>\n",
       "    </tr>\n",
       "    <tr>\n",
       "      <th>Gini coefficient</th>\n",
       "      <td>0.710313</td>\n",
       "      <td>0.625908</td>\n",
       "    </tr>\n",
       "    <tr>\n",
       "      <th>Log Loss</th>\n",
       "      <td>0.466048</td>\n",
       "      <td>0.485468</td>\n",
       "    </tr>\n",
       "  </tbody>\n",
       "</table>\n",
       "</div>"
      ],
      "text/plain": [
       "                                   Train      Test\n",
       "True Negative                        107        46\n",
       "False Positive                        28        13\n",
       "False Negative                        14        11\n",
       "True Positive                         51        17\n",
       "Accuracy                            0.79  0.724138\n",
       "Precision                        0.64557  0.566667\n",
       "Recall                          0.784615  0.607143\n",
       "Average precision-recall score  0.788346  0.727852\n",
       "ROC AUC                         0.855157  0.812954\n",
       "Gini coefficient                0.710313  0.625908\n",
       "Log Loss                        0.466048  0.485468"
      ]
     },
     "execution_count": 43,
     "metadata": {},
     "output_type": "execute_result"
    }
   ],
   "source": [
    "# performance metrics untuk masing-masing treatment\n",
    "train_metrics = metrics(y_train, \n",
    "                           logreg_best.predict(X_train_scaled[best_preds]), \n",
    "                           logreg_best.predict_proba(X_train_scaled[best_preds])[:,1], \n",
    "                          \"Train\")\n",
    "\n",
    "test_metrics = metrics(y_test, \n",
    "                           logreg_best.predict(X_test_scaled[best_preds]), \n",
    "                           logreg_best.predict_proba(X_test_scaled[best_preds])[:,1], \n",
    "                          \"Test\")\n",
    "\n",
    "metrics_data = [train_metrics, test_metrics]\n",
    "\n",
    "metrics_ = pd.concat(metrics_data)\n",
    "metrics_ = metrics_.reset_index(drop = True).T\n",
    "metrics_.columns = list(metrics_.iloc[0])\n",
    "metrics_ = metrics_[1:]\n",
    "metrics_"
   ]
  },
  {
   "cell_type": "code",
   "execution_count": 44,
   "id": "4cbaa0d8",
   "metadata": {},
   "outputs": [
    {
     "data": {
      "text/plain": [
       "<AxesSubplot:ylabel='Count'>"
      ]
     },
     "execution_count": 44,
     "metadata": {},
     "output_type": "execute_result"
    },
    {
     "data": {
      "image/png": "[encoded data removed]",
      "text/plain": [
       "<Figure size 432x288 with 1 Axes>"
      ]
     },
     "metadata": {
      "needs_background": "light"
     },
     "output_type": "display_data"
    }
   ],
   "source": [
    "# Distribusi predicted probability\n",
    "sns.histplot(x = logreg_best.predict_proba(X_test_scaled[best_preds])[:,1],\n",
    "             kde = True)"
   ]
  },
  {
   "cell_type": "markdown",
   "id": "e6f88823",
   "metadata": {},
   "source": [
    "# Interpret the Best Model Parameters\n",
    "---"
   ]
  },
  {
   "cell_type": "code",
   "execution_count": 45,
   "id": "ad06ba22",
   "metadata": {},
   "outputs": [
    {
     "data": {
      "text/plain": [
       "array([-0.4790876])"
      ]
     },
     "execution_count": 45,
     "metadata": {},
     "output_type": "execute_result"
    }
   ],
   "source": [
    "# Intercept linear regression\n",
    "logreg_cv.intercept_"
   ]
  },
  {
   "cell_type": "code",
   "execution_count": 46,
   "id": "ebef8ab4",
   "metadata": {},
   "outputs": [
    {
     "data": {
      "text/plain": [
       "array([-1.65491028, -0.87848892,  0.35767703,  0.34349766, -0.38210034,\n",
       "        0.12071578])"
      ]
     },
     "execution_count": 46,
     "metadata": {},
     "output_type": "execute_result"
    }
   ],
   "source": [
    "# Koefisien logistic regression\n",
    "logreg_best.coef_[0]"
   ]
  },
  {
   "cell_type": "code",
   "execution_count": 47,
   "id": "d6c7c7f8",
   "metadata": {},
   "outputs": [
    {
     "data": {
      "text/plain": [
       "array(['Duration', 'SpecialProjectsCount', 'DaysLateLast30', 'Absences',\n",
       "       'LevelID', 'EmpSatisfaction'], dtype=object)"
      ]
     },
     "execution_count": 47,
     "metadata": {},
     "output_type": "execute_result"
    }
   ],
   "source": [
    "logreg_best.feature_names_in_"
   ]
  },
  {
   "cell_type": "code",
   "execution_count": 48,
   "id": "d303681a",
   "metadata": {
    "scrolled": true
   },
   "outputs": [
    {
     "data": {
      "text/html": [
       "<div>\n",
       "<style scoped>\n",
       "    .dataframe tbody tr th:only-of-type {\n",
       "        vertical-align: middle;\n",
       "    }\n",
       "\n",
       "    .dataframe tbody tr th {\n",
       "        vertical-align: top;\n",
       "    }\n",
       "\n",
       "    .dataframe thead th {\n",
       "        text-align: right;\n",
       "    }\n",
       "</style>\n",
       "<table border=\"1\" class=\"dataframe\">\n",
       "  <thead>\n",
       "    <tr style=\"text-align: right;\">\n",
       "      <th></th>\n",
       "      <th>features</th>\n",
       "      <th>weights</th>\n",
       "    </tr>\n",
       "  </thead>\n",
       "  <tbody>\n",
       "    <tr>\n",
       "      <th>0</th>\n",
       "      <td>Constant</td>\n",
       "      <td>-0.438380</td>\n",
       "    </tr>\n",
       "    <tr>\n",
       "      <th>1</th>\n",
       "      <td>Duration</td>\n",
       "      <td>-1.654910</td>\n",
       "    </tr>\n",
       "    <tr>\n",
       "      <th>2</th>\n",
       "      <td>SpecialProjectsCount</td>\n",
       "      <td>-0.878489</td>\n",
       "    </tr>\n",
       "    <tr>\n",
       "      <th>3</th>\n",
       "      <td>DaysLateLast30</td>\n",
       "      <td>0.357677</td>\n",
       "    </tr>\n",
       "    <tr>\n",
       "      <th>4</th>\n",
       "      <td>Absences</td>\n",
       "      <td>0.343498</td>\n",
       "    </tr>\n",
       "    <tr>\n",
       "      <th>5</th>\n",
       "      <td>LevelID</td>\n",
       "      <td>-0.382100</td>\n",
       "    </tr>\n",
       "    <tr>\n",
       "      <th>6</th>\n",
       "      <td>EmpSatisfaction</td>\n",
       "      <td>0.120716</td>\n",
       "    </tr>\n",
       "  </tbody>\n",
       "</table>\n",
       "</div>"
      ],
      "text/plain": [
       "               features   weights\n",
       "0              Constant -0.438380\n",
       "1              Duration -1.654910\n",
       "2  SpecialProjectsCount -0.878489\n",
       "3        DaysLateLast30  0.357677\n",
       "4              Absences  0.343498\n",
       "5               LevelID -0.382100\n",
       "6       EmpSatisfaction  0.120716"
      ]
     },
     "execution_count": 48,
     "metadata": {},
     "output_type": "execute_result"
    }
   ],
   "source": [
    "dfcoef = pd.DataFrame()\n",
    "feats_ = ['Constant']\n",
    "feats_.extend(logreg_best.feature_names_in_)\n",
    "\n",
    "score_ = list(logreg_best.intercept_)\n",
    "score_.extend(logreg_best.coef_[0])\n",
    "\n",
    "dfcoef['features'] = feats_\n",
    "dfcoef['weights'] = score_\n",
    "\n",
    "dfcoef"
   ]
  },
  {
   "cell_type": "markdown",
   "id": "11612194",
   "metadata": {},
   "source": [
    "# Summary\n",
    "---"
   ]
  },
  {
   "cell_type": "markdown",
   "id": "28e01e7a",
   "metadata": {},
   "source": [
    "**Summary:**\n",
    "- Best model didapat setelah melakukan model selection karena memiliki nilai recall yang lebih besar.\n",
    "- Dengan forward selection, diperoleh best model dengan 6 predictors yaitu `Duration, SpecialProjectsCount, DaysLateLast30, Absences, LevelID, dan EmpSatisfaction`\n",
    "- AUC pada training set original dan pembobotan hampir mirip, disebabkan  imbalanced data set "
   ]
  },
  {
   "cell_type": "code",
   "execution_count": 49,
   "id": "23b35acf",
   "metadata": {},
   "outputs": [
    {
     "data": {
      "text/html": [
       "<div>\n",
       "<style scoped>\n",
       "    .dataframe tbody tr th:only-of-type {\n",
       "        vertical-align: middle;\n",
       "    }\n",
       "\n",
       "    .dataframe tbody tr th {\n",
       "        vertical-align: top;\n",
       "    }\n",
       "\n",
       "    .dataframe thead th {\n",
       "        text-align: right;\n",
       "    }\n",
       "</style>\n",
       "<table border=\"1\" class=\"dataframe\">\n",
       "  <thead>\n",
       "    <tr style=\"text-align: right;\">\n",
       "      <th></th>\n",
       "      <th>features</th>\n",
       "      <th>weights</th>\n",
       "    </tr>\n",
       "  </thead>\n",
       "  <tbody>\n",
       "    <tr>\n",
       "      <th>0</th>\n",
       "      <td>Constant</td>\n",
       "      <td>-0.438380</td>\n",
       "    </tr>\n",
       "    <tr>\n",
       "      <th>1</th>\n",
       "      <td>Duration</td>\n",
       "      <td>-1.654910</td>\n",
       "    </tr>\n",
       "    <tr>\n",
       "      <th>2</th>\n",
       "      <td>SpecialProjectsCount</td>\n",
       "      <td>-0.878489</td>\n",
       "    </tr>\n",
       "    <tr>\n",
       "      <th>3</th>\n",
       "      <td>DaysLateLast30</td>\n",
       "      <td>0.357677</td>\n",
       "    </tr>\n",
       "    <tr>\n",
       "      <th>4</th>\n",
       "      <td>Absences</td>\n",
       "      <td>0.343498</td>\n",
       "    </tr>\n",
       "    <tr>\n",
       "      <th>5</th>\n",
       "      <td>LevelID</td>\n",
       "      <td>-0.382100</td>\n",
       "    </tr>\n",
       "    <tr>\n",
       "      <th>6</th>\n",
       "      <td>EmpSatisfaction</td>\n",
       "      <td>0.120716</td>\n",
       "    </tr>\n",
       "  </tbody>\n",
       "</table>\n",
       "</div>"
      ],
      "text/plain": [
       "               features   weights\n",
       "0              Constant -0.438380\n",
       "1              Duration -1.654910\n",
       "2  SpecialProjectsCount -0.878489\n",
       "3        DaysLateLast30  0.357677\n",
       "4              Absences  0.343498\n",
       "5               LevelID -0.382100\n",
       "6       EmpSatisfaction  0.120716"
      ]
     },
     "execution_count": 49,
     "metadata": {},
     "output_type": "execute_result"
    }
   ],
   "source": [
    "dfcoef"
   ]
  },
  {
   "cell_type": "markdown",
   "id": "3b6bbf35",
   "metadata": {},
   "source": [
    "- **Prediktor yang meningkatkan resign pegawai** :\n",
    "    - `DaysLateLast30` \n",
    "    - `Absences`\n",
    "    - `EmpSatisfaction`\n",
    "\n",
    "- **Prediktor yang menurunkan resign pegawai** :\n",
    "    - `Duration` \n",
    "    - `SpecialProjectsCount`\n",
    "    - `LevelID`"
   ]
  },
  {
   "cell_type": "markdown",
   "id": "2df65914",
   "metadata": {},
   "source": [
    "# References\n",
    "---\n"
   ]
  },
  {
   "cell_type": "markdown",
   "id": "90d1ef59",
   "metadata": {},
   "source": [
    "- https://medium.com/@roihatul.mahmudah/hr-dataset-a5963ebddfc9\n",
    "- Daniel Jurafsky, James H. Martin. Speech and Language Processing.\n",
    "- Garest James, Daniela Witten, Trevor Hastie, Robert Tibshirani. An Introduction to Statistical Learning\n",
    "- Trevor Hastie, Robert Tibshirani, Jerome Friedman. The Elements of Statistical Learning"
   ]
  },
  {
   "cell_type": "code",
   "execution_count": null,
   "id": "8581b5b3",
   "metadata": {},
   "outputs": [],
   "source": []
  }
 ],
 "metadata": {
  "kernelspec": {
   "display_name": "Python 3",
   "language": "python",
   "name": "python3"
  },
  "language_info": {
   "codemirror_mode": {
    "name": "ipython",
    "version": 3
   },
   "file_extension": ".py",
   "mimetype": "text/x-python",
   "name": "python",
   "nbconvert_exporter": "python",
   "pygments_lexer": "ipython3",
   "version": "3.8.5"
  },
  "toc": {
   "base_numbering": 1,
   "nav_menu": {},
   "number_sections": true,
   "sideBar": true,
   "skip_h1_title": false,
   "title_cell": "Table of Contents",
   "title_sidebar": "Contents",
   "toc_cell": false,
   "toc_position": {
    "height": "calc(100% - 180px)",
    "left": "10px",
    "top": "150px",
    "width": "220.333px"
   },
   "toc_section_display": true,
   "toc_window_display": true
  }
 },
 "nbformat": 4,
 "nbformat_minor": 5
}
